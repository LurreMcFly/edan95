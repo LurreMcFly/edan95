{
 "cells": [
  {
   "cell_type": "code",
   "execution_count": null,
   "metadata": {},
   "outputs": [],
   "source": [
    "#!pip install keras"
   ]
  },
  {
   "cell_type": "markdown",
   "metadata": {},
   "source": [
    "# Create flowers dataset"
   ]
  },
  {
   "cell_type": "code",
   "execution_count": null,
   "metadata": {},
   "outputs": [],
   "source": [
    "import os\n",
    "import random\n",
    "import shutil\n",
    "\n",
    "\n",
    "\n",
    "# To create the same dataset\n",
    "random.seed(0)\n",
    "\n",
    "# Here write the path to your dataset\n",
    "\n",
    "base = 'C:/Users/David_000/Documents/EDAN95'\n",
    "original_dataset_dir = os.path.join(base, r'flowers')\n",
    "dataset = os.path.join(base, r'flowers_split')\n",
    "\n",
    "train_dir = os.path.join(dataset, r'train')\n",
    "validation_dir = os.path.join(dataset, r'validation')\n",
    "test_dir = os.path.join(dataset, r'test')\n",
    "\n",
    "categories = os.listdir(original_dataset_dir)\n",
    "categories = [category for category in categories if not category.startswith('.')]\n",
    "print('Image types:', categories)\n",
    "data_folders = [os.path.join(original_dataset_dir, category) for category in categories]\n",
    "\n",
    "pairs = []\n",
    "for folder, category in zip(data_folders, categories):\n",
    "    images = os.listdir(folder)\n",
    "    images = [image for image in images if not image.startswith('.')]\n",
    "    pairs.extend([(image, category) for image in images])\n",
    "\n",
    "random.shuffle(pairs)\n",
    "img_nbr = len(pairs)\n",
    "train_images = pairs[0:int(0.6 * img_nbr)]\n",
    "val_images = pairs[int(0.6 * img_nbr):int(0.8 * img_nbr)]\n",
    "test_images = pairs[int(0.8 * img_nbr):]\n",
    "\n",
    "# print(train_images)\n",
    "print(len(train_images))\n",
    "print(len(val_images))\n",
    "print(len(test_images))\n",
    "\n",
    "for image, label in train_images:\n",
    "    src = os.path.join(original_dataset_dir, label, image)\n",
    "    dst = os.path.join(train_dir, label, image)\n",
    "    os.makedirs(os.path.dirname(dst), exist_ok=True)\n",
    "    shutil.copyfile(src, dst)\n",
    "\n",
    "for image, label in val_images:\n",
    "    src = os.path.join(original_dataset_dir, label, image)\n",
    "    dst = os.path.join(validation_dir, label, image)\n",
    "    os.makedirs(os.path.dirname(dst), exist_ok=True)\n",
    "    shutil.copyfile(src, dst)\n",
    "\n",
    "for image, label in test_images:\n",
    "    src = os.path.join(original_dataset_dir, label, image)\n",
    "    dst = os.path.join(test_dir, label, image)\n",
    "    os.makedirs(os.path.dirname(dst), exist_ok=True)\n",
    "    shutil.copyfile(src, dst)"
   ]
  },
  {
   "cell_type": "markdown",
   "metadata": {},
   "source": [
    "# Implement a Simple CNN"
   ]
  },
  {
   "cell_type": "code",
   "execution_count": 32,
   "metadata": {},
   "outputs": [],
   "source": [
    "from keras.preprocessing.image import ImageDataGenerator\n",
    "from keras import layers\n",
    "from keras import models\n",
    "from keras import optimizers\n",
    "\n",
    "import os\n",
    "import random\n",
    "import shutil\n",
    "import numpy as np\n"
   ]
  },
  {
   "cell_type": "code",
   "execution_count": 28,
   "metadata": {},
   "outputs": [],
   "source": [
    "base = 'C:/Users/David_000/Documents/EDAN95'\n",
    "original_dataset_dir = os.path.join(base, r'flowers')\n",
    "dataset = os.path.join(base, r'flowers_split')\n",
    "\n",
    "train_dir = os.path.join(dataset, r'train')\n",
    "validation_dir = os.path.join(dataset, r'validation')\n",
    "test_dir = os.path.join(dataset, r'test')"
   ]
  },
  {
   "cell_type": "code",
   "execution_count": null,
   "metadata": {},
   "outputs": [],
   "source": [
    "train_datagen = ImageDataGenerator(rescale=1. / 255)\n",
    "val_datagen = ImageDataGenerator(rescale=1. / 255)\n",
    "test_datagen = ImageDataGenerator(rescale=1. / 255)"
   ]
  },
  {
   "cell_type": "code",
   "execution_count": null,
   "metadata": {},
   "outputs": [],
   "source": [
    "train_generator = train_datagen.flow_from_directory(\n",
    "    train_dir, target_size=(150, 150),\n",
    "    batch_size=25, class_mode= 'categorical')\n",
    "\n",
    "validation_generator = test_datagen.flow_from_directory(\n",
    "    validation_dir, target_size=(150, 150),\n",
    "    batch_size=5, class_mode= 'categorical')"
   ]
  },
  {
   "cell_type": "code",
   "execution_count": null,
   "metadata": {},
   "outputs": [],
   "source": [
    "model = models.Sequential()\n",
    "model.add(layers.Conv2D(32, (3, 3), activation='relu',\n",
    "input_shape=(150, 150, 3)))\n",
    "\n",
    "model.add(layers.MaxPooling2D((2, 2)))\n",
    "model.add(layers.Conv2D(64, (3, 3), activation='relu'))\n",
    "\n",
    "model.add(layers.MaxPooling2D((2, 2)))\n",
    "model.add(layers.Conv2D(128, (3, 3), activation='relu'))\n",
    "\n",
    "model.add(layers.MaxPooling2D((2, 2)))\n",
    "model.add(layers.Conv2D(128, (3, 3), activation='relu'))\n",
    "\n",
    "model.add(layers.MaxPooling2D((2, 2)))\n",
    "model.add(layers.Flatten())\n",
    "\n",
    "model.add(layers.Dense(512, activation='relu'))\n",
    "model.add(layers.Dense(5, activation='sigmoid'))"
   ]
  },
  {
   "cell_type": "code",
   "execution_count": null,
   "metadata": {},
   "outputs": [],
   "source": [
    "model.compile(optimizer='rmsprop',\n",
    "              loss='categorical_crossentropy',\n",
    "              metrics=['accuracy'])"
   ]
  },
  {
   "cell_type": "code",
   "execution_count": null,
   "metadata": {},
   "outputs": [],
   "source": [
    "# model.compile(loss='binary_crossentropy',\n",
    "#             optimizer=optimizers.RMSprop(lr=1e-4),\n",
    "#             metrics=['acc'])"
   ]
  },
  {
   "cell_type": "code",
   "execution_count": null,
   "metadata": {
    "scrolled": false
   },
   "outputs": [],
   "source": [
    "history = model.fit_generator(train_generator, steps_per_epoch=105, epochs=10,\n",
    "                            validation_data=validation_generator, validation_steps=173)"
   ]
  },
  {
   "cell_type": "code",
   "execution_count": null,
   "metadata": {},
   "outputs": [],
   "source": [
    "model.save('simpleCNN1.h5')"
   ]
  },
  {
   "cell_type": "markdown",
   "metadata": {},
   "source": [
    "### Create second model with dropout and softmax"
   ]
  },
  {
   "cell_type": "code",
   "execution_count": null,
   "metadata": {},
   "outputs": [],
   "source": [
    "model2 = models.Sequential()\n",
    "model2.add(layers.Conv2D(32, (3, 3), activation='relu',\n",
    "input_shape=(150, 150, 3)))\n",
    "model2.add(layers.MaxPooling2D((2, 2)))\n",
    "\n",
    "model2.add(layers.Conv2D(64, (3, 3), activation='relu'))\n",
    "model2.add(layers.MaxPooling2D((2, 2)))\n",
    "model2.add(layers.Dropout(0.25))\n",
    "\n",
    "model2.add(layers.Conv2D(128, (3, 3), activation='relu'))\n",
    "model2.add(layers.MaxPooling2D((2, 2)))\n",
    "model2.add(layers.Dropout(0.25))\n",
    "\n",
    "model2.add(layers.Conv2D(128, (3, 3), activation='relu'))\n",
    "model2.add(layers.MaxPooling2D((2, 2)))\n",
    "\n",
    "model2.add(layers.Flatten())\n",
    "model2.add(layers.Dense(512, activation='relu'))\n",
    "model2.add(layers.Dense(5, activation='softmax'))"
   ]
  },
  {
   "cell_type": "code",
   "execution_count": null,
   "metadata": {},
   "outputs": [],
   "source": [
    "model2.compile(optimizer='adam',\n",
    "              loss='categorical_crossentropy',\n",
    "              metrics=['accuracy'])"
   ]
  },
  {
   "cell_type": "code",
   "execution_count": null,
   "metadata": {},
   "outputs": [],
   "source": [
    "history2 = model2.fit_generator(train_generator, steps_per_epoch=105, epochs=10,\n",
    "                            validation_data=validation_generator, validation_steps=173)"
   ]
  },
  {
   "cell_type": "markdown",
   "metadata": {},
   "source": [
    "### Save model"
   ]
  },
  {
   "cell_type": "code",
   "execution_count": null,
   "metadata": {},
   "outputs": [],
   "source": [
    "model2.save('simpleCNN2.h5')"
   ]
  },
  {
   "cell_type": "markdown",
   "metadata": {},
   "source": [
    "# Plot Accuracy"
   ]
  },
  {
   "cell_type": "code",
   "execution_count": null,
   "metadata": {},
   "outputs": [],
   "source": [
    "import matplotlib.pyplot as plt\n",
    "acc = history.history['accuracy']\n",
    "val_acc = history.history['val_accuracy']\n",
    "loss = history.history['loss']\n",
    "val_loss = history.history['val_loss']\n",
    "epochs = range(1, len(acc) + 1)\n",
    "plt.plot(epochs, acc, 'bo', label='Training acc')\n",
    "plt.plot(epochs, val_acc, 'b', label='Validation acc')\n",
    "plt.title('Training and validation accuracy')\n",
    "plt.legend()\n",
    "plt.figure()\n",
    "plt.plot(epochs, loss, 'bo', label='Training loss')\n",
    "plt.plot(epochs, val_loss, 'b', label='Validation loss')\n",
    "plt.title('Training and validation loss')\n",
    "plt.legend()\n",
    "plt.show()"
   ]
  },
  {
   "cell_type": "markdown",
   "metadata": {},
   "source": [
    "# Setting up data augmentation"
   ]
  },
  {
   "cell_type": "code",
   "execution_count": null,
   "metadata": {},
   "outputs": [],
   "source": [
    "train_datagen = ImageDataGenerator(rotation_range=40, width_shift_range=0.2, height_shift_range=0.2, \n",
    "                             shear_range=0.2, zoom_range=0.2, horizontal_flip=True, fill_mode='nearest')\n",
    "test_datagen = ImageDataGenerator(rescale = 1./255)"
   ]
  },
  {
   "cell_type": "code",
   "execution_count": null,
   "metadata": {},
   "outputs": [],
   "source": [
    "from keras.preprocessing import image"
   ]
  },
  {
   "cell_type": "code",
   "execution_count": null,
   "metadata": {},
   "outputs": [],
   "source": [
    "# fnames = [os.path.join(train_dir, fname) for fname in os.listdir(train_dir)]\n",
    "\n",
    "# img_path = fnames[3]\n",
    "# img = image.load_img(img_path, target_size=(150, 150))\n",
    "# x = image.img_to_array(img)\n",
    "# x = x.reshape((1,) + x.shape)\n",
    "# i=0\n",
    "# for batch in datagen.flow(x, batch_size=1):\n",
    "#     plt.figure(i)\n",
    "#     imgplot = plt.imshow(image.array_to_img(batch[0]))\n",
    "#     i += 1\n",
    "#     if i % 4 == 0:\n",
    "#         break\n",
    "# plt.show()"
   ]
  },
  {
   "cell_type": "code",
   "execution_count": null,
   "metadata": {},
   "outputs": [],
   "source": [
    "train_generator = train_datagen.flow_from_directory(train_dir, target_size=(150, 150), \n",
    "                                                    batch_size=25, class_mode='categorical')\n",
    "\n",
    "\n",
    "validation_generator = test_datagen.flow_from_directory(validation_dir,target_size=(150, 150),\n",
    "                                                        batch_size=20,class_mode='categorical')"
   ]
  },
  {
   "cell_type": "code",
   "execution_count": null,
   "metadata": {},
   "outputs": [],
   "source": [
    "model3 = models.Sequential()\n",
    "model3.add(layers.Conv2D(32, (3, 3), activation='relu',\n",
    "input_shape=(150, 150, 3)))\n",
    "model3.add(layers.MaxPooling2D((2, 2)))\n",
    "\n",
    "model3.add(layers.Conv2D(64, (3, 3), activation='relu'))\n",
    "model3.add(layers.MaxPooling2D((2, 2)))\n",
    "model3.add(layers.Dropout(0.25))\n",
    "\n",
    "model3.add(layers.Conv2D(128, (3, 3), activation='relu'))\n",
    "model3.add(layers.MaxPooling2D((2, 2)))\n",
    "model3.add(layers.Dropout(0.25))\n",
    "\n",
    "model3.add(layers.Conv2D(128, (3, 3), activation='relu'))\n",
    "model3.add(layers.MaxPooling2D((2, 2)))\n",
    "\n",
    "model3.add(layers.Flatten())\n",
    "model3.add(layers.Dense(512, activation='relu'))\n",
    "model3.add(layers.Dense(5, activation='softmax'))"
   ]
  },
  {
   "cell_type": "raw",
   "metadata": {},
   "source": [
    "model3.compile(optimizer='adam',\n",
    "              loss='categorical_crossentropy',\n",
    "              metrics=['accuracy'])"
   ]
  },
  {
   "cell_type": "code",
   "execution_count": null,
   "metadata": {},
   "outputs": [],
   "source": [
    "history3 = model3.fit_generator(train_generator, steps_per_epoch=105, epochs=10,\n",
    "                            validation_data=validation_generator, validation_steps=20)"
   ]
  },
  {
   "cell_type": "code",
   "execution_count": null,
   "metadata": {},
   "outputs": [],
   "source": []
  },
  {
   "cell_type": "markdown",
   "metadata": {},
   "source": [
    "# Import NetWork from Keras"
   ]
  },
  {
   "cell_type": "code",
   "execution_count": null,
   "metadata": {},
   "outputs": [],
   "source": [
    "from keras.applications.inception_v3 import InceptionV3"
   ]
  },
  {
   "cell_type": "code",
   "execution_count": null,
   "metadata": {},
   "outputs": [],
   "source": [
    "base_model = InceptionV3(weights='imagenet', include_top=False)\n",
    "x = base_model.output\n",
    "x = layers.Dense(512, activation = 'relu')(x)\n",
    "preds = layers.Dense(5, activation = 'softmax')(x)\n",
    "\n",
    "model_V3 = models.Model(inputs = base_model.input, outputs = preds)"
   ]
  },
  {
   "cell_type": "code",
   "execution_count": null,
   "metadata": {},
   "outputs": [],
   "source": [
    "train_datagen = ImageDataGenerator(rescale=1. / 255)\n",
    "val_datagen = ImageDataGenerator(rescale=1. / 255)\n",
    "test_datagen = ImageDataGenerator(rescale=1. / 255)\n",
    "\n",
    "train_generator = train_datagen.flow_from_directory(\n",
    "    train_dir, target_size=(150, 150),\n",
    "    batch_size=25, class_mode= 'categorical')\n",
    "\n",
    "validation_generator = test_datagen.flow_from_directory(\n",
    "    validation_dir, target_size=(150, 150),\n",
    "    batch_size=20, class_mode= 'categorical')"
   ]
  },
  {
   "cell_type": "code",
   "execution_count": null,
   "metadata": {},
   "outputs": [],
   "source": [
    "model_V3.compile(optimizer='adam',\n",
    "              loss='categorical_crossentropy',\n",
    "              metrics=['accuracy'])"
   ]
  },
  {
   "cell_type": "code",
   "execution_count": null,
   "metadata": {},
   "outputs": [],
   "source": [
    "history_V3 = model_V3.fit_generator(train_generator, steps_per_epoch=105, epochs=10,\n",
    "                            validation_data=validation_generator, validation_steps=20)"
   ]
  },
  {
   "cell_type": "markdown",
   "metadata": {},
   "source": [
    "## Inception V3 with augment data"
   ]
  },
  {
   "cell_type": "code",
   "execution_count": 29,
   "metadata": {},
   "outputs": [
    {
     "name": "stdout",
     "output_type": "stream",
     "text": [
      "Found 2625 images belonging to 5 classes.\n",
      "Found 865 images belonging to 5 classes.\n"
     ]
    }
   ],
   "source": [
    "train_datagen_aug = ImageDataGenerator(rotation_range=40, width_shift_range=0.2, height_shift_range=0.2, \n",
    "                             shear_range=0.2, zoom_range=0.2, horizontal_flip=True, fill_mode='nearest')\n",
    "test_datagen = ImageDataGenerator(rescale = 1./255)\n",
    "\n",
    "train_generator = train_datagen_aug.flow_from_directory(train_dir, target_size=(150, 150), \n",
    "                                                    batch_size=25, class_mode='categorical')\n",
    "\n",
    "\n",
    "validation_generator = test_datagen.flow_from_directory(validation_dir,target_size=(150, 150),\n",
    "                                                        batch_size=20,class_mode='categorical')"
   ]
  },
  {
   "cell_type": "code",
   "execution_count": null,
   "metadata": {},
   "outputs": [],
   "source": [
    "base_model = InceptionV3(weights='imagenet', include_top=False)\n",
    "x = base_model.output\n",
    "x = layers.Dense(512, activation = 'relu')(x)\n",
    "preds = layers.Dense(5, activation = 'softmax')(x)\n",
    "\n",
    "for layer in base_model.layers:\n",
    "    layer.trainable = False\n",
    "\n",
    "model_V3_aug = models.Model(inputs = base_model.input, outputs = preds)\n",
    "\n",
    "model_V3_aug.compile(optimizer='rmsprop',\n",
    "              loss='categorical_crossentropy',\n",
    "              metrics=['accuracy'])"
   ]
  },
  {
   "cell_type": "code",
   "execution_count": 60,
   "metadata": {},
   "outputs": [],
   "source": [
    "base_model = InceptionV3(weights='imagenet', include_top=False)\n",
    "\n",
    "final_model = models.Sequential()\n",
    "final_model.add(layers.Dense(512, activation = 'relu', input_dim = 3*3*2048))\n",
    "final_model.add(layers.Dropout(0.5))\n",
    "final_model.add(layers.Dense(5, activation = 'softmax'))\n",
    "\n",
    "final_model.compile(optimizer='rmsprop',\n",
    "              loss='categorical_crossentropy',\n",
    "              metrics=['accuracy'])"
   ]
  },
  {
   "cell_type": "code",
   "execution_count": 48,
   "metadata": {},
   "outputs": [
    {
     "name": "stdout",
     "output_type": "stream",
     "text": [
      "Found 2625 images belonging to 5 classes.\n",
      "Found 865 images belonging to 5 classes.\n",
      "Found 865 images belonging to 5 classes.\n"
     ]
    }
   ],
   "source": [
    "datagen = ImageDataGenerator(rescale=1./255)\n",
    "batch_size = 25\n",
    "\n",
    "def extract_features(directory, sample_count):\n",
    "    features = np.zeros(shape=(sample_count, 3, 3, 2048))\n",
    "    labels = np.zeros(shape=(sample_count,5))\n",
    "    generator = datagen.flow_from_directory(directory, target_size=(150, 150), batch_size=batch_size,class_mode='categorical')\n",
    "    i=0\n",
    "    for inputs_batch, labels_batch in generator:\n",
    "        features_batch = base_model.predict(inputs_batch)\n",
    "        features[i * batch_size : (i + 1) * batch_size] = features_batch\n",
    "        labels[i * batch_size : (i + 1) * batch_size] = labels_batch\n",
    "        i += 1\n",
    "        if i * batch_size >= sample_count:\n",
    "            break\n",
    "    return features, labels\n",
    "\n",
    "train_features, train_labels = extract_features(train_dir, 2000)\n",
    "validation_features, validation_labels = extract_features(validation_dir, 850)\n",
    "test_features, test_labels = extract_features(test_dir, 850)\n"
   ]
  },
  {
   "cell_type": "code",
   "execution_count": 54,
   "metadata": {},
   "outputs": [],
   "source": [
    "train_features_f = np.reshape(train_features, (2000, 3*3* 2048))\n",
    "validation_features_f = np.reshape(validation_features, (850, 3*3* 2048))\n",
    "test_features_f = np.reshape(test_features, (850, 3*3* 2048))\n",
    "\n",
    "\n",
    "# scores = model.evaluate()\n"
   ]
  },
  {
   "cell_type": "code",
   "execution_count": 61,
   "metadata": {},
   "outputs": [
    {
     "name": "stdout",
     "output_type": "stream",
     "text": [
      "Train on 2000 samples, validate on 850 samples\n",
      "Epoch 1/10\n",
      "2000/2000 [==============================] - 10s 5ms/step - loss: 12.2943 - accuracy: 0.5625 - val_loss: 1.0422 - val_accuracy: 0.7012\n",
      "Epoch 2/10\n",
      "2000/2000 [==============================] - 7s 4ms/step - loss: 1.4281 - accuracy: 0.6790 - val_loss: 0.7066 - val_accuracy: 0.7541\n",
      "Epoch 3/10\n",
      "2000/2000 [==============================] - 7s 4ms/step - loss: 1.2076 - accuracy: 0.7305 - val_loss: 1.9908 - val_accuracy: 0.6118\n",
      "Epoch 4/10\n",
      "2000/2000 [==============================] - 7s 4ms/step - loss: 1.1501 - accuracy: 0.7405 - val_loss: 1.3955 - val_accuracy: 0.7235\n",
      "Epoch 5/10\n",
      "2000/2000 [==============================] - 7s 4ms/step - loss: 0.9444 - accuracy: 0.7975 - val_loss: 1.0722 - val_accuracy: 0.7506\n",
      "Epoch 6/10\n",
      "2000/2000 [==============================] - 7s 4ms/step - loss: 0.8068 - accuracy: 0.8160 - val_loss: 1.2505 - val_accuracy: 0.7624\n",
      "Epoch 7/10\n",
      "2000/2000 [==============================] - 7s 4ms/step - loss: 0.7846 - accuracy: 0.8280 - val_loss: 0.9626 - val_accuracy: 0.7988\n",
      "Epoch 8/10\n",
      "2000/2000 [==============================] - 7s 4ms/step - loss: 0.6744 - accuracy: 0.8495 - val_loss: 1.0894 - val_accuracy: 0.7988\n",
      "Epoch 9/10\n",
      "2000/2000 [==============================] - 7s 4ms/step - loss: 0.7074 - accuracy: 0.8615 - val_loss: 0.8349 - val_accuracy: 0.7965\n",
      "Epoch 10/10\n",
      "2000/2000 [==============================] - 7s 4ms/step - loss: 0.5406 - accuracy: 0.8850 - val_loss: 0.9815 - val_accuracy: 0.8118\n"
     ]
    }
   ],
   "source": [
    "history = final_model.fit(train_features_f, train_labels, epochs=10, \n",
    "                    batch_size=25, validation_data=(validation_features_f, validation_labels))\n"
   ]
  }
 ],
 "metadata": {
  "kernelspec": {
   "display_name": "Python 3",
   "language": "python",
   "name": "python3"
  },
  "language_info": {
   "codemirror_mode": {
    "name": "ipython",
    "version": 3
   },
   "file_extension": ".py",
   "mimetype": "text/x-python",
   "name": "python",
   "nbconvert_exporter": "python",
   "pygments_lexer": "ipython3",
   "version": "3.7.4"
  }
 },
 "nbformat": 4,
 "nbformat_minor": 2
}
