{
 "cells": [
  {
   "cell_type": "markdown",
   "metadata": {},
   "source": [
    "# EDAN95 - Applied Machine Learning\n",
    "### LTH Fall 2019"
   ]
  },
  {
   "cell_type": "markdown",
   "metadata": {},
   "source": [
    "# Lab 6\n",
    "### Jonas Lundgren"
   ]
  },
  {
   "cell_type": "code",
   "execution_count": 40,
   "metadata": {},
   "outputs": [],
   "source": [
    "import numpy as np\n",
    "import math\n",
    "\n",
    "from sklearn.datasets import load_digits\n",
    "from sklearn.model_selection import train_test_split"
   ]
  },
  {
   "cell_type": "code",
   "execution_count": 11,
   "metadata": {},
   "outputs": [],
   "source": [
    "digits = load_digits()\n",
    "train_features, test_features, train_labels, test_labels = train_test_split(digits.data, digits.target,\n",
    "                                                                            test_size=0.3, random_state=42)"
   ]
  },
  {
   "cell_type": "code",
   "execution_count": 760,
   "metadata": {},
   "outputs": [],
   "source": [
    "class Gaussian_NBC_EM():\n",
    "    \n",
    "    def __init__(self, seed = 42, epsilon = 1e-7):\n",
    "        self.seed = seed\n",
    "        self.epsilon = epsilon\n",
    "    \n",
    "    def fit(self, X, K):\n",
    "        np.random.seed(self.seed)\n",
    "        n_samples, n_features = np.shape(X)\n",
    "        \n",
    "        prior = prior_prev = np.ones(K)/K\n",
    "        \n",
    "        idxs = np.resize(range(K), n_samples)\n",
    "        np.random.shuffle(idxs)\n",
    "        \n",
    "        means = np.empty([K, n_features])\n",
    "        sigma2 = np.empty([K, n_features])\n",
    "        for k in range(K):\n",
    "            means[k] = np.mean(X[idxs == k], axis=0)\n",
    "            sigma2[k] = np.var(X[idxs == k], axis=0)\n",
    "        \n",
    "        sigma2[sigma2 == 0] = self.epsilon\n",
    "        \n",
    "        P = np.empty([n_samples, K])\n",
    "        r = np.empty([n_samples, K])\n",
    "        \n",
    "        for i in range(10):\n",
    "            # E step\n",
    "            for k in range(K):\n",
    "                P[:, k] = prior_prev[k] * np.sum(1/(2*np.pi*sigma2[k]) - 1/(2*sigma2[k]) * (X - means[k])**2, axis = 1)\n",
    "            \n",
    "            r = P / (np.sum(prior) * np.sum(P, axis = 1)).reshape(-1,1)\n",
    "            \n",
    "            # M step\n",
    "            r_k = np.sum(r, axis = 0)\n",
    "            #Update prior and store old\n",
    "            prior_prev = prior\n",
    "            prior = r_k / n_samples\n",
    "\n",
    "            for k in range(K):\n",
    "                means[k] = r[:, k].reshape(1,-1) @ X / r_k[k]\n",
    "                sigma2[k] = np.diag((r[:, k].reshape(-1,1) * X).T @ X - means.T @ means)\n",
    "                \n",
    "            sigma2[sigma2 == 0] = self.epsilon\n",
    "        \n",
    "        self.means = means\n",
    "        self.sigma2 = sigma2\n",
    "        self.prior = prior\n",
    "        \n",
    "    def predict(self, X):\n",
    "        preds = np.empty(len(X), dtype = np.int32)\n",
    "        \n",
    "        for i, x in enumerate(X):\n",
    "            # highest probability\n",
    "        \n",
    "        self.preds = preds\n",
    "        return self.preds"
   ]
  },
  {
   "cell_type": "code",
   "execution_count": 761,
   "metadata": {},
   "outputs": [],
   "source": [
    "em = Gaussian_NBC_EM()"
   ]
  },
  {
   "cell_type": "code",
   "execution_count": 762,
   "metadata": {
    "scrolled": false
   },
   "outputs": [],
   "source": [
    "em = Gaussian_NBC_EM()\n",
    "em.fit(train_features, 10)"
   ]
  },
  {
   "cell_type": "code",
   "execution_count": null,
   "metadata": {},
   "outputs": [],
   "source": []
  }
 ],
 "metadata": {
  "kernelspec": {
   "display_name": "Python 3",
   "language": "python",
   "name": "python3"
  },
  "language_info": {
   "codemirror_mode": {
    "name": "ipython",
    "version": 3
   },
   "file_extension": ".py",
   "mimetype": "text/x-python",
   "name": "python",
   "nbconvert_exporter": "python",
   "pygments_lexer": "ipython3",
   "version": "3.7.5"
  }
 },
 "nbformat": 4,
 "nbformat_minor": 2
}
