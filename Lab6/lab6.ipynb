{
 "cells": [
  {
   "cell_type": "markdown",
   "metadata": {},
   "source": [
    "# EDAN95 - Applied Machine Learning\n",
    "### LTH Fall 2019"
   ]
  },
  {
   "cell_type": "markdown",
   "metadata": {},
   "source": [
    "# Lab 6\n",
    "### Jonas Lundgren"
   ]
  },
  {
   "cell_type": "code",
   "execution_count": 1,
   "metadata": {},
   "outputs": [],
   "source": [
    "import numpy as np\n",
    "import math\n",
    "import matplotlib.pyplot as plt\n",
    "\n",
    "from sklearn.datasets import load_digits\n",
    "from sklearn.model_selection import train_test_split\n",
    "from sklearn.preprocessing import normalize\n",
    "from sklearn import metrics\n",
    "from scipy.stats import multivariate_normal"
   ]
  },
  {
   "cell_type": "code",
   "execution_count": 2,
   "metadata": {},
   "outputs": [],
   "source": [
    "digits = load_digits()\n",
    "train_features, test_features, train_labels, test_labels = train_test_split(digits.data, digits.target,\n",
    "                                                                            test_size=0.3, random_state=42)\n",
    "\n",
    "train_features /= 16 \n",
    "test_features /= 16 "
   ]
  },
  {
   "cell_type": "code",
   "execution_count": 3,
   "metadata": {},
   "outputs": [],
   "source": [
    "class Gaussian_NBC_EM():\n",
    "    \n",
    "    def __init__(self, seed = 42, epsilon = 1e-3):\n",
    "        self.seed = seed\n",
    "        self.epsilon = epsilon\n",
    "    \n",
    "    def log_prob(self, X, mu, sigma2):\n",
    "        return np.log(1/np.sqrt(2*np.pi*sigma2)) - 1/(2*sigma2) * (X - mu)**2\n",
    "    \n",
    "    def prob(self, x, mu, sigma2):        \n",
    "        return 1/np.sqrt(2*np.pi*sigma2) * np.exp(- 1/(2*sigma2) * (x - mu)**2)\n",
    "    \n",
    "    def fit(self, X, K):\n",
    "        self.K = K\n",
    "        np.random.seed(self.seed)\n",
    "        n_samples, n_features = np.shape(X)\n",
    "        \n",
    "        prior = np.ones(K)/K\n",
    "        \n",
    "        idxs = np.resize(range(K), n_samples)\n",
    "        np.random.shuffle(idxs)\n",
    "        \n",
    "        mu = np.empty([K, n_features])\n",
    "        sigma2 = np.empty([K, n_features])\n",
    "        for k in range(K):\n",
    "            mu[k] = np.mean(X[idxs == k], axis=0)\n",
    "            sigma2[k] = np.var(X[idxs == k], axis=0)\n",
    "        \n",
    "        sigma2 += self.epsilon\n",
    "        \n",
    "        P = np.empty([n_samples, K])\n",
    "        r = np.empty([n_samples, K])\n",
    "        prev_prior = np.zeros(K)\n",
    "        \n",
    "        while np.linalg.norm(prev_prior - prior) > 1e-6:\n",
    "                             \n",
    "            # E step\n",
    "            for k in range(K):\n",
    "                P[:, k] = np.prod(self.prob(X, mu[k], sigma2[k]), axis = 1)\n",
    "                \n",
    "            r = prior * P / (np.sum(prior * P, axis = 1)).reshape(-1,1)\n",
    "            \n",
    "            # M step\n",
    "            r_k = np.sum(r, axis = 0)\n",
    "            prev_prior = prior #For stop condition\n",
    "            prior = r_k / np.sum(r_k)\n",
    "                             \n",
    "            for k in range(K):\n",
    "                mu[k] = np.sum(r[:, k].reshape(-1,1) * X, axis = 0) / r_k[k]\n",
    "                sigma2[k] = np.diag((r[:, k].reshape(-1,1) * (X - mu[k])).T @ (X - mu[k]) / r_k[k])\n",
    "                   \n",
    "            sigma2 += self.epsilon\n",
    "            \n",
    "        \n",
    "        self.mu = mu\n",
    "        self.sigma2 = sigma2\n",
    "        self.prior = prior\n",
    "        \n",
    "    def predict(self, X):\n",
    "        preds = np.empty(len(X), dtype = np.int32)\n",
    "        prob = np.zeros(self.K)\n",
    "        \n",
    "        for i, x in enumerate(X):\n",
    "            for k in range(self.K):                \n",
    "                prob[k] = self.prior[k] * np.prod(self.prob(x, self.mu[k], self.sigma2[k]))\n",
    "                  \n",
    "            preds[i] = np.argmax(prob)\n",
    "        \n",
    "        self.preds = preds\n",
    "        return self.preds"
   ]
  },
  {
   "cell_type": "code",
   "execution_count": 4,
   "metadata": {
    "scrolled": false
   },
   "outputs": [],
   "source": [
    "em = Gaussian_NBC_EM()\n",
    "em.fit(train_features, K = 10)"
   ]
  },
  {
   "cell_type": "markdown",
   "metadata": {},
   "source": [
    "## Train Data"
   ]
  },
  {
   "cell_type": "code",
   "execution_count": 5,
   "metadata": {},
   "outputs": [
    {
     "name": "stdout",
     "output_type": "stream",
     "text": [
      "Confusion matrix:\n",
      "[[  0   0 123   0   2   0   0   0   0   0]\n",
      " [  0   4   0   0   1  41  61   1   4  20]\n",
      " [  0   0   0   0   0   0  14   0  70  46]\n",
      " [ 90   3   0   0   0   0  19  12   2   3]\n",
      " [  0  10   0   0  99  10   0   1   1   0]\n",
      " [  9   4   0   0   0   0   1  68  34   0]\n",
      " [  0   0   0 125   1   0   0   2   0   0]\n",
      " [  0 116   0   0   0   3   4   1   0   0]\n",
      " [  1   1   0   0   2   3  63  49   6   6]\n",
      " [ 90   7   0   0   0  14   0   8   1   1]]\n"
     ]
    }
   ],
   "source": [
    "ypreds = em.predict(train_features)\n",
    "print(\"Confusion matrix:\\n%s\" % metrics.confusion_matrix(train_labels, ypreds))"
   ]
  },
  {
   "cell_type": "code",
   "execution_count": 6,
   "metadata": {},
   "outputs": [
    {
     "data": {
      "image/png": "[encoded data removed]",
      "text/plain": [
       "<Figure size 576x576 with 10 Axes>"
      ]
     },
     "metadata": {
      "needs_background": "light"
     },
     "output_type": "display_data"
    }
   ],
   "source": [
    "fig = plt.figure(figsize=(8, 8))\n",
    "columns = 5\n",
    "rows = 2\n",
    "for i in range(10):\n",
    "    img = np.reshape(em.mu[i]*16,(8,8))\n",
    "    fig.add_subplot(rows, columns, i+1)\n",
    "    plt.imshow(img)\n",
    "    plt.title(i)\n",
    "plt.show()"
   ]
  },
  {
   "cell_type": "code",
   "execution_count": 7,
   "metadata": {},
   "outputs": [],
   "source": [
    "preds_fix = np.zeros(len(ypreds))\n",
    "preds_fix[ypreds == 0] = 3\n",
    "preds_fix[ypreds == 1] = 7\n",
    "preds_fix[ypreds == 2] = 0\n",
    "preds_fix[ypreds == 3] = 6\n",
    "preds_fix[ypreds == 4] = 4\n",
    "preds_fix[ypreds == 5] = 9\n",
    "preds_fix[ypreds == 6] = 8\n",
    "preds_fix[ypreds == 7] = 5\n",
    "preds_fix[ypreds == 8] = 2\n",
    "preds_fix[ypreds == 9] = 1"
   ]
  },
  {
   "cell_type": "code",
   "execution_count": 8,
   "metadata": {},
   "outputs": [
    {
     "name": "stdout",
     "output_type": "stream",
     "text": [
      "Confusion matrix:\n",
      "[[123   0   0   0   2   0   0   0   0   0]\n",
      " [  0  20   4   0   1   1   0   4  61  41]\n",
      " [  0  46  70   0   0   0   0   0  14   0]\n",
      " [  0   3   2  90   0  12   0   3  19   0]\n",
      " [  0   0   1   0  99   1   0  10   0  10]\n",
      " [  0   0  34   9   0  68   0   4   1   0]\n",
      " [  0   0   0   0   1   2 125   0   0   0]\n",
      " [  0   0   0   0   0   1   0 116   4   3]\n",
      " [  0   6   6   1   2  49   0   1  63   3]\n",
      " [  0   1   1  90   0   8   0   7   0  14]]\n"
     ]
    }
   ],
   "source": [
    "print(\"Confusion matrix:\\n%s\" % metrics.confusion_matrix(train_labels, preds_fix))"
   ]
  },
  {
   "cell_type": "code",
   "execution_count": 9,
   "metadata": {},
   "outputs": [
    {
     "data": {
      "text/plain": [
       "0.6268894192521878"
      ]
     },
     "execution_count": 9,
     "metadata": {},
     "output_type": "execute_result"
    }
   ],
   "source": [
    "metrics.accuracy_score(train_labels, preds_fix)"
   ]
  },
  {
   "cell_type": "markdown",
   "metadata": {},
   "source": [
    "## Test Data"
   ]
  },
  {
   "cell_type": "code",
   "execution_count": 10,
   "metadata": {},
   "outputs": [
    {
     "name": "stdout",
     "output_type": "stream",
     "text": [
      "Confusion matrix:\n",
      "[[ 1  0 50  0  2  0  0  0  0  0]\n",
      " [ 0  2  0  0  1 15 18  2  2 10]\n",
      " [ 0  0  0  0  0  0  2  1 25 19]\n",
      " [34  0  0  0  0  0  9  7  0  4]\n",
      " [ 0  6  0  0 48  5  0  1  0  0]\n",
      " [10  2  0  1  0  0  1 39 13  0]\n",
      " [ 0  0  0 51  0  0  0  2  0  0]\n",
      " [ 0 54  0  0  0  0  0  1  0  0]\n",
      " [ 0  0  0  0  0  0 20 17  4  2]\n",
      " [45  3  0  0  0  5  1  4  1  0]]\n"
     ]
    }
   ],
   "source": [
    "ypreds = em.predict(test_features)\n",
    "print(\"Confusion matrix:\\n%s\" % metrics.confusion_matrix(test_labels, ypreds))"
   ]
  },
  {
   "cell_type": "code",
   "execution_count": 11,
   "metadata": {},
   "outputs": [],
   "source": [
    "preds_fix = np.zeros(len(ypreds))\n",
    "preds_fix[ypreds == 0] = 3\n",
    "preds_fix[ypreds == 1] = 7\n",
    "preds_fix[ypreds == 2] = 0\n",
    "preds_fix[ypreds == 3] = 6\n",
    "preds_fix[ypreds == 4] = 4\n",
    "preds_fix[ypreds == 5] = 9\n",
    "preds_fix[ypreds == 6] = 8\n",
    "preds_fix[ypreds == 7] = 5\n",
    "preds_fix[ypreds == 8] = 2\n",
    "preds_fix[ypreds == 9] = 1"
   ]
  },
  {
   "cell_type": "code",
   "execution_count": 12,
   "metadata": {},
   "outputs": [
    {
     "name": "stdout",
     "output_type": "stream",
     "text": [
      "Confusion matrix:\n",
      "[[50  0  0  1  2  0  0  0  0  0]\n",
      " [ 0 10  2  0  1  2  0  2 18 15]\n",
      " [ 0 19 25  0  0  1  0  0  2  0]\n",
      " [ 0  4  0 34  0  7  0  0  9  0]\n",
      " [ 0  0  0  0 48  1  0  6  0  5]\n",
      " [ 0  0 13 10  0 39  1  2  1  0]\n",
      " [ 0  0  0  0  0  2 51  0  0  0]\n",
      " [ 0  0  0  0  0  1  0 54  0  0]\n",
      " [ 0  2  4  0  0 17  0  0 20  0]\n",
      " [ 0  0  1 45  0  4  0  3  1  5]]\n"
     ]
    }
   ],
   "source": [
    "print(\"Confusion matrix:\\n%s\" % metrics.confusion_matrix(test_labels, preds_fix))"
   ]
  },
  {
   "cell_type": "code",
   "execution_count": 13,
   "metadata": {},
   "outputs": [
    {
     "data": {
      "text/plain": [
       "0.6222222222222222"
      ]
     },
     "execution_count": 13,
     "metadata": {},
     "output_type": "execute_result"
    }
   ],
   "source": [
    "metrics.accuracy_score(test_labels, preds_fix)"
   ]
  },
  {
   "cell_type": "markdown",
   "metadata": {},
   "source": [
    "# K-means "
   ]
  },
  {
   "cell_type": "code",
   "execution_count": 14,
   "metadata": {},
   "outputs": [],
   "source": [
    "from sklearn.cluster import KMeans"
   ]
  },
  {
   "cell_type": "code",
   "execution_count": 15,
   "metadata": {},
   "outputs": [
    {
     "data": {
      "text/plain": [
       "KMeans(algorithm='auto', copy_x=True, init='k-means++', max_iter=300,\n",
       "       n_clusters=10, n_init=10, n_jobs=None, precompute_distances='auto',\n",
       "       random_state=42, tol=0.0001, verbose=0)"
      ]
     },
     "execution_count": 15,
     "metadata": {},
     "output_type": "execute_result"
    }
   ],
   "source": [
    "kmeans = KMeans(n_clusters=10, random_state = 42)\n",
    "kmeans.fit(train_features)"
   ]
  },
  {
   "cell_type": "markdown",
   "metadata": {},
   "source": [
    "## Train Data"
   ]
  },
  {
   "cell_type": "code",
   "execution_count": 16,
   "metadata": {},
   "outputs": [
    {
     "name": "stdout",
     "output_type": "stream",
     "text": [
      "Confusion matrix:\n",
      "[[  0   0   0   0   0 124   0   1   0   0]\n",
      " [  3   0  74   0  14   0   0   0   1  40]\n",
      " [  0  11   2   2 106   1   6   0   0   2]\n",
      " [  0 114   0   6   1   0   6   0   2   0]\n",
      " [  0   0   3   6   0   0   3 108   0   1]\n",
      " [  0  17   0   0   0   0   0   0  99   0]\n",
      " [124   0   3   0   0   0   1   0   0   0]\n",
      " [  0   0   3 112   0   0   9   0   0   0]\n",
      " [  1  10   7   4   3   0  98   0   2   6]\n",
      " [  0  97   0   4   0   0   1   0   4  15]]\n"
     ]
    }
   ],
   "source": [
    "ypreds = kmeans.predict(train_features)\n",
    "print(\"Confusion matrix:\\n%s\" % metrics.confusion_matrix(train_labels, ypreds))"
   ]
  },
  {
   "cell_type": "code",
   "execution_count": 17,
   "metadata": {},
   "outputs": [
    {
     "data": {
      "image/png": "[encoded data removed]",
      "text/plain": [
       "<Figure size 576x576 with 10 Axes>"
      ]
     },
     "metadata": {
      "needs_background": "light"
     },
     "output_type": "display_data"
    }
   ],
   "source": [
    "fig = plt.figure(figsize=(8, 8))\n",
    "columns = 5\n",
    "rows = 2\n",
    "for i in range(10):\n",
    "    img = np.reshape(kmeans.cluster_centers_[i]*16,(8,8))\n",
    "    fig.add_subplot(rows, columns, i+1)\n",
    "    plt.imshow(img)\n",
    "    plt.title(i)\n",
    "plt.show()"
   ]
  },
  {
   "cell_type": "code",
   "execution_count": 18,
   "metadata": {},
   "outputs": [],
   "source": [
    "preds_fix = np.zeros(len(ypreds))\n",
    "preds_fix[ypreds == 0] = 6\n",
    "preds_fix[ypreds == 1] = 3\n",
    "preds_fix[ypreds == 2] = 1\n",
    "preds_fix[ypreds == 3] = 7\n",
    "preds_fix[ypreds == 4] = 2\n",
    "preds_fix[ypreds == 5] = 0\n",
    "preds_fix[ypreds == 6] = 8\n",
    "preds_fix[ypreds == 7] = 4\n",
    "preds_fix[ypreds == 8] = 5\n",
    "preds_fix[ypreds == 9] = 9"
   ]
  },
  {
   "cell_type": "code",
   "execution_count": 19,
   "metadata": {},
   "outputs": [
    {
     "name": "stdout",
     "output_type": "stream",
     "text": [
      "Confusion matrix:\n",
      "[[124   0   0   0   1   0   0   0   0   0]\n",
      " [  0  74  14   0   0   1   3   0   0  40]\n",
      " [  1   2 106  11   0   0   0   2   6   2]\n",
      " [  0   0   1 114   0   2   0   6   6   0]\n",
      " [  0   3   0   0 108   0   0   6   3   1]\n",
      " [  0   0   0  17   0  99   0   0   0   0]\n",
      " [  0   3   0   0   0   0 124   0   1   0]\n",
      " [  0   3   0   0   0   0   0 112   9   0]\n",
      " [  0   7   3  10   0   2   1   4  98   6]\n",
      " [  0   0   0  97   0   4   0   4   1  15]]\n"
     ]
    }
   ],
   "source": [
    "print(\"Confusion matrix:\\n%s\" % metrics.confusion_matrix(train_labels, preds_fix))"
   ]
  },
  {
   "cell_type": "code",
   "execution_count": 20,
   "metadata": {},
   "outputs": [
    {
     "data": {
      "text/plain": [
       "0.7748607796340493"
      ]
     },
     "execution_count": 20,
     "metadata": {},
     "output_type": "execute_result"
    }
   ],
   "source": [
    "metrics.accuracy_score(train_labels, preds_fix)"
   ]
  },
  {
   "cell_type": "markdown",
   "metadata": {},
   "source": [
    "## Test data"
   ]
  },
  {
   "cell_type": "code",
   "execution_count": 21,
   "metadata": {},
   "outputs": [
    {
     "name": "stdout",
     "output_type": "stream",
     "text": [
      "Confusion matrix:\n",
      "[[ 0  0  0  0  0 52  0  1  0  0]\n",
      " [ 0  0 27  0 10  0  0  0  0 13]\n",
      " [ 0  2  0  0 41  0  4  0  0  0]\n",
      " [ 0 47  0  2  1  0  4  0  0  0]\n",
      " [ 0  0  2  2  0  0  0 54  0  2]\n",
      " [ 1 16  0  0  0  0  0  1 48  0]\n",
      " [52  0  0  0  0  1  0  0  0  0]\n",
      " [ 0  0  1 53  0  0  1  0  0  0]\n",
      " [ 0  3  3  0  0  0 36  0  1  0]\n",
      " [ 0 48  0  4  0  0  1  0  1  5]]\n"
     ]
    }
   ],
   "source": [
    "ypreds = kmeans.predict(test_features)\n",
    "print(\"Confusion matrix:\\n%s\" % metrics.confusion_matrix(test_labels, ypreds))"
   ]
  },
  {
   "cell_type": "code",
   "execution_count": 22,
   "metadata": {},
   "outputs": [],
   "source": [
    "preds_fix = np.zeros(len(ypreds))\n",
    "preds_fix[ypreds == 0] = 6\n",
    "preds_fix[ypreds == 1] = 3\n",
    "preds_fix[ypreds == 2] = 1\n",
    "preds_fix[ypreds == 3] = 7\n",
    "preds_fix[ypreds == 4] = 2\n",
    "preds_fix[ypreds == 5] = 0\n",
    "preds_fix[ypreds == 6] = 8\n",
    "preds_fix[ypreds == 7] = 4\n",
    "preds_fix[ypreds == 8] = 5\n",
    "preds_fix[ypreds == 9] = 9"
   ]
  },
  {
   "cell_type": "code",
   "execution_count": 23,
   "metadata": {},
   "outputs": [
    {
     "name": "stdout",
     "output_type": "stream",
     "text": [
      "Confusion matrix:\n",
      "[[52  0  0  0  1  0  0  0  0  0]\n",
      " [ 0 27 10  0  0  0  0  0  0 13]\n",
      " [ 0  0 41  2  0  0  0  0  4  0]\n",
      " [ 0  0  1 47  0  0  0  2  4  0]\n",
      " [ 0  2  0  0 54  0  0  2  0  2]\n",
      " [ 0  0  0 16  1 48  1  0  0  0]\n",
      " [ 1  0  0  0  0  0 52  0  0  0]\n",
      " [ 0  1  0  0  0  0  0 53  1  0]\n",
      " [ 0  3  0  3  0  1  0  0 36  0]\n",
      " [ 0  0  0 48  0  1  0  4  1  5]]\n"
     ]
    }
   ],
   "source": [
    "print(\"Confusion matrix:\\n%s\" % metrics.confusion_matrix(test_labels, preds_fix))"
   ]
  },
  {
   "cell_type": "code",
   "execution_count": 24,
   "metadata": {},
   "outputs": [
    {
     "data": {
      "text/plain": [
       "0.7685185185185185"
      ]
     },
     "execution_count": 24,
     "metadata": {},
     "output_type": "execute_result"
    }
   ],
   "source": [
    "metrics.accuracy_score(test_labels, preds_fix)"
   ]
  },
  {
   "cell_type": "code",
   "execution_count": null,
   "metadata": {},
   "outputs": [],
   "source": []
  }
 ],
 "metadata": {
  "kernelspec": {
   "display_name": "Python 3",
   "language": "python",
   "name": "python3"
  },
  "language_info": {
   "codemirror_mode": {
    "name": "ipython",
    "version": 3
   },
   "file_extension": ".py",
   "mimetype": "text/x-python",
   "name": "python",
   "nbconvert_exporter": "python",
   "pygments_lexer": "ipython3",
   "version": "3.7.5"
  }
 },
 "nbformat": 4,
 "nbformat_minor": 2
}
