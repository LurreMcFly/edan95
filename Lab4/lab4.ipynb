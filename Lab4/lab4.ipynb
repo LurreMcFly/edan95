{
 "cells": [
  {
   "cell_type": "markdown",
   "metadata": {},
   "source": [
    "# EDAN95 - Applied Machine Learning\n",
    "### LTH Fall 2019"
   ]
  },
  {
   "cell_type": "markdown",
   "metadata": {},
   "source": [
    "# Lab 4\n",
    "### David Larsson & Jonas Lundgren"
   ]
  },
  {
   "cell_type": "markdown",
   "metadata": {},
   "source": [
    "### GloVe embeddings"
   ]
  },
  {
   "cell_type": "code",
   "execution_count": 1,
   "metadata": {},
   "outputs": [],
   "source": [
    "import numpy as np"
   ]
  },
  {
   "cell_type": "code",
   "execution_count": 2,
   "metadata": {},
   "outputs": [],
   "source": [
    "def read_GloVe(path = \"data/glove.6B.100d.txt\"):\n",
    "    \"\"\"\n",
    "    Function that reads GloVe embeddings and returns a dictionary, \n",
    "    where the keys will be the words and the values, the embeddings.\n",
    "    \"\"\"\n",
    "    d = {}\n",
    "    with open(path) as f:\n",
    "        for embeddings in f:\n",
    "            embeddings_list = embeddings.split()\n",
    "            d[embeddings_list[0]] = np.array([float(i) for i in embeddings_list[1:]])\n",
    "            \n",
    "    return d"
   ]
  },
  {
   "cell_type": "code",
   "execution_count": 3,
   "metadata": {},
   "outputs": [],
   "source": [
    "glove_dict = read_GloVe()"
   ]
  },
  {
   "cell_type": "code",
   "execution_count": 11,
   "metadata": {},
   "outputs": [
    {
     "name": "stdout",
     "output_type": "stream",
     "text": [
      "0\n",
      "1\n",
      "2\n",
      "3\n",
      "4\n",
      "5\n",
      "6\n",
      "7\n",
      "8\n",
      "9\n",
      "10\n"
     ]
    }
   ],
   "source": [
    "for i, (k, v) in enumerate(glove_dict.items()):\n",
    "    if i > 10:\n",
    "        break\n",
    "        \n",
    "    print(i)"
   ]
  },
  {
   "cell_type": "code",
   "execution_count": null,
   "metadata": {},
   "outputs": [],
   "source": [
    "def cosine_sim(word, glove_dict = glove_dict, num_closest = 5):\n",
    "    \"\"\"\n",
    "    Using a cosine similarity, computes the num_closest \n",
    "    closest words to word in glove_dict\n",
    "    \"\"\"\n",
    "    A = glove_dict[str(word)]\n",
    "    A_norm = np.linalg.norm(A, 2)\n",
    "    \n",
    "    cos_sims = np.zeros(len(glove_dict))\n",
    "    \n",
    "    for i, (k, v) in enumerate(glove_dict.items()):\n",
    "        B = v\n",
    "        B_norm = np.linalg.norm(B, 2)\n",
    "    \n",
    "        cos_sim = A.dot(B) / (A_norm * B_norm)\n",
    "        cos_sims[i] = cos_sim\n",
    "    \n",
    "    max"
   ]
  },
  {
   "cell_type": "code",
   "execution_count": 49,
   "metadata": {},
   "outputs": [],
   "source": [
    "def cosine_sim(word, glove_dict = glove_dict, num_closest = 5):\n",
    "    \"\"\"\n",
    "    Using a cosine similarity, computes the num_closest \n",
    "    closest words to word in glove_dict\n",
    "    \"\"\"\n",
    "    A = glove_dict[str(word)]\n",
    "    A_norm = np.linalg.norm(A, 2)\n",
    "    \n",
    "    cos_sims = np.zeros(len(glove_dict))\n",
    "    \n",
    "    for i, (k, v) in enumerate(glove_dict.items()):\n",
    "        if k != word:\n",
    "            B = v\n",
    "            B_norm = np.linalg.norm(B, 2)\n",
    "    \n",
    "            cos_sim = A.dot(B) / (A_norm * B_norm)\n",
    "            cos_sims[i] = cos_sim\n",
    "    \n",
    "    max_idxs = list(cos_sims.argsort()[-num_closest:])\n",
    "    \n",
    "    return [list(glove_dict.keys())[i] for i in max_idxs]"
   ]
  },
  {
   "cell_type": "code",
   "execution_count": null,
   "metadata": {},
   "outputs": [
    {
     "name": "stdout",
     "output_type": "stream",
     "text": [
      "['austria', 'netherlands', 'finland', 'norway', 'denmark']\n"
     ]
    }
   ],
   "source": [
    "print(cosine_sim('table'))\n",
    "print(cosine_sim('fr'))\n",
    "print(cosine_sim('sweden'))"
   ]
  }
 ],
 "metadata": {
  "kernelspec": {
   "display_name": "Python 3",
   "language": "python",
   "name": "python3"
  },
  "language_info": {
   "codemirror_mode": {
    "name": "ipython",
    "version": 3
   },
   "file_extension": ".py",
   "mimetype": "text/x-python",
   "name": "python",
   "nbconvert_exporter": "python",
   "pygments_lexer": "ipython3",
   "version": "3.7.5"
  }
 },
 "nbformat": 4,
 "nbformat_minor": 2
}
