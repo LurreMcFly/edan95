{
 "cells": [
  {
   "cell_type": "markdown",
   "metadata": {},
   "source": [
    "# EDAN95 - Applied Machine Learning\n",
    "### LTH Fall 2019"
   ]
  },
  {
   "cell_type": "markdown",
   "metadata": {},
   "source": [
    "# Lab 4\n",
    "### David Larsson & Jonas Lundgren"
   ]
  },
  {
   "cell_type": "markdown",
   "metadata": {},
   "source": [
    "### GloVe embeddings"
   ]
  },
  {
   "cell_type": "code",
   "execution_count": 1,
   "metadata": {},
   "outputs": [
    {
     "name": "stderr",
     "output_type": "stream",
     "text": [
      "Using TensorFlow backend.\n"
     ]
    }
   ],
   "source": [
    "import numpy as np\n",
    "import matplotlib.pyplot as plt\n",
    "import collections\n",
    "from keras.preprocessing.sequence import pad_sequences\n",
    "from keras.utils import to_categorical"
   ]
  },
  {
   "cell_type": "code",
   "execution_count": 2,
   "metadata": {},
   "outputs": [],
   "source": [
    "def read_GloVe(path = \"data/glove.6B.100d.txt\"):\n",
    "    \"\"\"\n",
    "    Function that reads GloVe embeddings and returns a dictionary, \n",
    "    where the keys will be the words and the values, the embeddings.\n",
    "    \"\"\"\n",
    "    d = {}\n",
    "    with open(path) as f:\n",
    "        for embeddings in f:\n",
    "            embeddings_list = embeddings.split()\n",
    "            d[embeddings_list[0]] = np.array([float(i) for i in embeddings_list[1:]])\n",
    "            \n",
    "    return d"
   ]
  },
  {
   "cell_type": "code",
   "execution_count": 3,
   "metadata": {},
   "outputs": [],
   "source": [
    "glove_dict = read_GloVe()"
   ]
  },
  {
   "cell_type": "code",
   "execution_count": 4,
   "metadata": {},
   "outputs": [],
   "source": [
    "def cosine_sim(word, glove_dict = glove_dict, num_closest = 5):\n",
    "    \"\"\"\n",
    "    Using a cosine similarity, computes the num_closest \n",
    "    closest words to word in glove_dict\n",
    "    \"\"\"\n",
    "    A = glove_dict[str(word)]\n",
    "    A_norm = np.linalg.norm(A, 2)\n",
    "    \n",
    "    cos_sims = np.zeros(len(glove_dict))\n",
    "    \n",
    "    for i, (k, v) in enumerate(glove_dict.items()):\n",
    "        if k != word:\n",
    "            B = v\n",
    "            B_norm = np.linalg.norm(B, 2)\n",
    "    \n",
    "            cos_sim = A.dot(B) / (A_norm * B_norm)\n",
    "            cos_sims[i] = cos_sim\n",
    "    \n",
    "    max_idxs = list(cos_sims.argsort()[-num_closest:])\n",
    "    \n",
    "    return [list(glove_dict.keys())[i] for i in max_idxs]"
   ]
  },
  {
   "cell_type": "code",
   "execution_count": 5,
   "metadata": {},
   "outputs": [
    {
     "name": "stdout",
     "output_type": "stream",
     "text": [
      "Closest 5 words to table : ['side', 'room', 'bottom', 'place', 'tables']\n",
      "Closest 5 words to table : ['paris', 'spain', 'britain', 'french', 'belgium']\n",
      "Closest 5 words to table : ['austria', 'netherlands', 'finland', 'norway', 'denmark']\n"
     ]
    }
   ],
   "source": [
    "print(\"Closest 5 words to table :\", cosine_sim('table'))\n",
    "print(\"Closest 5 words to table :\", cosine_sim('france'))\n",
    "print(\"Closest 5 words to table :\", cosine_sim('sweden'))"
   ]
  },
  {
   "cell_type": "markdown",
   "metadata": {},
   "source": [
    "## Load Files"
   ]
  },
  {
   "cell_type": "code",
   "execution_count": 6,
   "metadata": {},
   "outputs": [],
   "source": [
    "BASE_DIR = r'/home/jonas/projects/edan95/Lab4/data'\n",
    "\n",
    "\n",
    "def load_conll2003_en():\n",
    "    train_file = BASE_DIR + '/eng.train'\n",
    "    dev_file = BASE_DIR + '/eng.valid'\n",
    "    test_file = BASE_DIR + '/eng.test'\n",
    "    column_names = ['form', 'ppos', 'pchunk', 'ner']\n",
    "    train_sentences = open(train_file).read().strip()\n",
    "    dev_sentences = open(dev_file).read().strip()\n",
    "    test_sentences = open(test_file).read().strip()\n",
    "    return train_sentences, dev_sentences, test_sentences, column_names"
   ]
  },
  {
   "cell_type": "code",
   "execution_count": 7,
   "metadata": {},
   "outputs": [],
   "source": [
    "train_sentences, dev_sentences, test_sentences, column_names = load_conll2003_en()"
   ]
  },
  {
   "cell_type": "markdown",
   "metadata": {},
   "source": [
    "Code from course github: https://github.com/pnugues/edan95/"
   ]
  },
  {
   "cell_type": "code",
   "execution_count": 8,
   "metadata": {},
   "outputs": [],
   "source": [
    "import re\n",
    "\n",
    "class Token(dict):\n",
    "    pass\n",
    "\n",
    "class CoNLLDictorizer:\n",
    "\n",
    "    def __init__(self, column_names, sent_sep='\\n\\n', col_sep=' +'):\n",
    "        self.column_names = column_names\n",
    "        self.sent_sep = sent_sep\n",
    "        self.col_sep = col_sep\n",
    "\n",
    "    def fit(self):\n",
    "        pass\n",
    "\n",
    "    def transform(self, corpus):\n",
    "        corpus = corpus.strip()\n",
    "        sentences = re.split(self.sent_sep, corpus)\n",
    "        return list(map(self._split_in_words, sentences))\n",
    "\n",
    "    def fit_transform(self, corpus):\n",
    "        return self.transform(corpus)\n",
    "\n",
    "    def _split_in_words(self, sentence):\n",
    "        rows = re.split('\\n', sentence)\n",
    "        rows = [row for row in rows if row[0] != '#']\n",
    "        return [Token(dict(zip(self.column_names,\n",
    "                               re.split(self.col_sep, row))))\n",
    "                for row in rows]"
   ]
  },
  {
   "cell_type": "code",
   "execution_count": 9,
   "metadata": {},
   "outputs": [],
   "source": [
    "conll_dict = CoNLLDictorizer(column_names, col_sep=' +')\n",
    "train_dict = conll_dict.transform(train_sentences)\n",
    "dev_dict = conll_dict.transform(dev_sentences)\n",
    "test_dict = conll_dict.transform(test_sentences)"
   ]
  },
  {
   "cell_type": "markdown",
   "metadata": {},
   "source": [
    "Named-entity recognition (NER) tags"
   ]
  },
  {
   "cell_type": "code",
   "execution_count": 10,
   "metadata": {
    "scrolled": false
   },
   "outputs": [
    {
     "data": {
      "text/plain": [
       "[{'form': '-DOCSTART-', 'ppos': '-X-', 'pchunk': 'O', 'ner': 'O'}]"
      ]
     },
     "execution_count": 10,
     "metadata": {},
     "output_type": "execute_result"
    }
   ],
   "source": [
    "train_dict[0]"
   ]
  },
  {
   "cell_type": "code",
   "execution_count": 11,
   "metadata": {},
   "outputs": [],
   "source": [
    "def build_sequences(corpus_dict, key_x='form', key_y='ner', tolower=True):\n",
    "    \"\"\"\n",
    "    Creates sequences from a list of dictionaries\n",
    "    :param corpus_dict:\n",
    "    :param key_x:\n",
    "    :param key_y:\n",
    "    :return: X, Y\n",
    "    \"\"\"\n",
    "    X = []\n",
    "    Y = []\n",
    "    for sentence in corpus_dict:\n",
    "        x = []\n",
    "        y = []\n",
    "        for word in sentence:\n",
    "            x += [word[key_x]]\n",
    "            y += [word[key_y]]\n",
    "        if tolower:\n",
    "            x = list(map(str.lower, x))\n",
    "        X += [x]\n",
    "        Y += [y]\n",
    "    return X, Y"
   ]
  },
  {
   "cell_type": "markdown",
   "metadata": {},
   "source": [
    "Should correspond with index 1 in X"
   ]
  },
  {
   "cell_type": "code",
   "execution_count": 12,
   "metadata": {},
   "outputs": [
    {
     "name": "stdout",
     "output_type": "stream",
     "text": [
      "['eu', 'rejects', 'german', 'call', 'to', 'boycott', 'british', 'lamb', '.']\n",
      "['I-ORG', 'O', 'I-MISC', 'O', 'O', 'O', 'I-MISC', 'O', 'O']\n"
     ]
    }
   ],
   "source": [
    "X_train_cat, Y_train_cat = build_sequences(train_dict)\n",
    "X_dev_cat, Y_dev_cat = build_sequences(dev_dict)\n",
    "X_test_cat, Y_test_cat = build_sequences(test_dict)\n",
    "print(X_train_cat[1])\n",
    "print(Y_train_cat[1])"
   ]
  },
  {
   "cell_type": "code",
   "execution_count": 13,
   "metadata": {},
   "outputs": [
    {
     "name": "stdout",
     "output_type": "stream",
     "text": [
      "['!', '\"', '$', '%', '&', \"'\", \"'d\", \"'ll\", \"'m\", \"'re\"]\n",
      "['B-LOC', 'B-MISC', 'B-ORG', 'I-LOC', 'I-MISC', 'I-ORG', 'I-PER', 'O']\n"
     ]
    }
   ],
   "source": [
    "vocabulary_words = sorted(list(set([word for sentence in X_train_cat for word in sentence])))\n",
    "ner = sorted(list(set([ner for sentence in Y_train_cat for ner in sentence])))\n",
    "\n",
    "print(vocabulary_words[:10])\n",
    "print(ner[:10])"
   ]
  },
  {
   "cell_type": "code",
   "execution_count": 14,
   "metadata": {},
   "outputs": [
    {
     "data": {
      "text/plain": [
       "['!', '!!', '!!!', '!!!!', '!!!!!', '!?', '!?!', '\"', '#', '##']"
      ]
     },
     "execution_count": 14,
     "metadata": {},
     "output_type": "execute_result"
    }
   ],
   "source": [
    "embeddings_words = sorted(glove_dict.keys())\n",
    "embeddings_words[:10]"
   ]
  },
  {
   "cell_type": "code",
   "execution_count": 15,
   "metadata": {},
   "outputs": [
    {
     "data": {
      "text/plain": [
       "['!', '!!', '!!!', '!!!!', '!!!!!', '!?', '!?!', '\"', '#', '##']"
      ]
     },
     "execution_count": 15,
     "metadata": {},
     "output_type": "execute_result"
    }
   ],
   "source": [
    "vocabulary_words = sorted(list(set(vocabulary_words + embeddings_words)))\n",
    "vocabulary_words[:10]"
   ]
  },
  {
   "cell_type": "code",
   "execution_count": 16,
   "metadata": {},
   "outputs": [],
   "source": [
    "tok_words_reversed = dict(enumerate(vocabulary_words, start=2))\n",
    "tok_ners_reversed = dict(enumerate(ner, start=2))"
   ]
  },
  {
   "cell_type": "code",
   "execution_count": 17,
   "metadata": {},
   "outputs": [
    {
     "name": "stdout",
     "output_type": "stream",
     "text": [
      "word index: [('!', 2), ('!!', 3), ('!!!', 4), ('!!!!', 5), ('!!!!!', 6), ('!?', 7), ('!?!', 8), ('\"', 9), ('#', 10), ('##', 11)]\n",
      "\n",
      "NER index: [('B-LOC', 2), ('B-MISC', 3), ('B-ORG', 4), ('I-LOC', 5), ('I-MISC', 6), ('I-ORG', 7), ('I-PER', 8), ('O', 9)]\n"
     ]
    }
   ],
   "source": [
    "tokenized_words = {v: k for k, v in tok_words_reversed.items()}\n",
    "tokenized_ners = {v: k for k, v in tok_ners_reversed.items()}\n",
    "\n",
    "print('word index:', list(tokenized_words.items())[:10])\n",
    "print('\\nNER index:', list(tokenized_ners.items())[:10])"
   ]
  },
  {
   "cell_type": "code",
   "execution_count": 18,
   "metadata": {},
   "outputs": [],
   "source": [
    "def sentences_to_idx(X, tokenized_x):\n",
    "    X_idxs = []\n",
    "    for sentence in X:\n",
    "        #Map unknowns to 1\n",
    "        X_idxs.append([tokenized_x[x] if x in tokenized_x else 1 for x in sentence])\n",
    "        \n",
    "    return X_idxs"
   ]
  },
  {
   "cell_type": "code",
   "execution_count": 19,
   "metadata": {
    "scrolled": false
   },
   "outputs": [],
   "source": [
    "X_idx = sentences_to_idx(X_train_cat, tokenized_words)\n",
    "Y_idx = sentences_to_idx(Y_train_cat, tokenized_ners)\n",
    "\n",
    "X_idx_dev = sentences_to_idx(X_dev_cat, tokenized_words)\n",
    "Y_idx_dev = sentences_to_idx(Y_dev_cat, tokenized_ners)\n",
    "\n",
    "X_idx_test = sentences_to_idx(X_test_cat, tokenized_words)\n",
    "Y_idx_test = sentences_to_idx(Y_test_cat, tokenized_ners)"
   ]
  },
  {
   "cell_type": "code",
   "execution_count": 20,
   "metadata": {},
   "outputs": [
    {
     "name": "stdout",
     "output_type": "stream",
     "text": [
      "(14987, 113)\n",
      "(14987, 113)\n"
     ]
    }
   ],
   "source": [
    "X = pad_sequences(X_idx)\n",
    "Y = pad_sequences(Y_idx)\n",
    "\n",
    "print(X.shape)\n",
    "print(Y.shape)"
   ]
  },
  {
   "cell_type": "code",
   "execution_count": 21,
   "metadata": {},
   "outputs": [],
   "source": [
    "max_len = X.shape[1]"
   ]
  },
  {
   "cell_type": "code",
   "execution_count": 22,
   "metadata": {},
   "outputs": [],
   "source": [
    "X_dev = pad_sequences(X_idx_dev, maxlen = max_len)\n",
    "Y_dev = pad_sequences(Y_idx_dev, maxlen = max_len)\n",
    "\n",
    "X_test = pad_sequences(X_idx_test, maxlen = max_len)\n",
    "Y_test = pad_sequences(Y_idx_test, maxlen = max_len)"
   ]
  },
  {
   "cell_type": "code",
   "execution_count": 23,
   "metadata": {},
   "outputs": [],
   "source": [
    "Y_train = to_categorical(Y, num_classes = len(ner) + 2)\n",
    "Y_dev = to_categorical(Y_dev, num_classes = len(ner) + 2)\n",
    "Y_test = to_categorical(Y_test, num_classes = len(ner) + 2)"
   ]
  },
  {
   "cell_type": "markdown",
   "metadata": {},
   "source": [
    "An example of how the padding works."
   ]
  },
  {
   "cell_type": "code",
   "execution_count": 24,
   "metadata": {},
   "outputs": [
    {
     "data": {
      "text/plain": [
       "array([     0,      0,      0,      0,      0,      0,      0,      0,\n",
       "            0,      0,      0,      0,      0,      0,      0,      0,\n",
       "            0,      0,      0,      0,      0,      0,      0,      0,\n",
       "            0,      0,      0,      0,      0,      0,      0,      0,\n",
       "            0,      0,      0,      0,      0,      0,      0,      0,\n",
       "            0,      0,      0,      0,      0,      0,      0,      0,\n",
       "            0,      0,      0,      0,      0,      0,      0,      0,\n",
       "            0,      0,      0,      0,      0,      0,      0,      0,\n",
       "            0,      0,      0,      0,      0,      0,      0,      0,\n",
       "            0,      0,      0,      0,      0,      0,      0,      0,\n",
       "            0,      0,      0,      0,      0,      0,      0,      0,\n",
       "            0,      0,      0,      0,      0,      0,      0,      0,\n",
       "            0,      0,      0,      0,      0,      0,      0,      0,\n",
       "       142143, 307143, 161836,  91321, 363368,  83766,  85852, 218260,\n",
       "          936], dtype=int32)"
      ]
     },
     "execution_count": 24,
     "metadata": {},
     "output_type": "execute_result"
    }
   ],
   "source": [
    "X[1]"
   ]
  },
  {
   "cell_type": "code",
   "execution_count": 25,
   "metadata": {},
   "outputs": [
    {
     "data": {
      "text/plain": [
       "array([0, 0, 0, 0, 0, 0, 0, 0, 0, 0, 0, 0, 0, 0, 0, 0, 0, 0, 0, 0, 0, 0,\n",
       "       0, 0, 0, 0, 0, 0, 0, 0, 0, 0, 0, 0, 0, 0, 0, 0, 0, 0, 0, 0, 0, 0,\n",
       "       0, 0, 0, 0, 0, 0, 0, 0, 0, 0, 0, 0, 0, 0, 0, 0, 0, 0, 0, 0, 0, 0,\n",
       "       0, 0, 0, 0, 0, 0, 0, 0, 0, 0, 0, 0, 0, 0, 0, 0, 0, 0, 0, 0, 0, 0,\n",
       "       0, 0, 0, 0, 0, 0, 0, 0, 0, 0, 0, 0, 0, 0, 0, 0, 7, 9, 6, 9, 9, 9,\n",
       "       6, 9, 9], dtype=int32)"
      ]
     },
     "execution_count": 25,
     "metadata": {},
     "output_type": "execute_result"
    }
   ],
   "source": [
    "Y[1]"
   ]
  },
  {
   "cell_type": "markdown",
   "metadata": {},
   "source": [
    "Take a look at the distribution of the targets."
   ]
  },
  {
   "cell_type": "code",
   "execution_count": 26,
   "metadata": {},
   "outputs": [],
   "source": [
    "def add_dicts(d1, d2):\n",
    "    d = {}\n",
    "    keys = list(set(list(d1.keys()) + list(d2.keys())))\n",
    "    for k in keys:\n",
    "        if k in d1 and k in d2:\n",
    "            d[k] = d1[k] + d2[k]\n",
    "        elif k in d1:\n",
    "            d[k] = d1[k]\n",
    "        else:\n",
    "            d[k] = d2[k]        \n",
    "    return d"
   ]
  },
  {
   "cell_type": "code",
   "execution_count": 27,
   "metadata": {},
   "outputs": [],
   "source": [
    "plot_dict = {}\n",
    "for i in range(len(Y)):\n",
    "    y_dict = dict(collections.Counter(Y[i]))\n",
    "    plot_dict = add_dicts(plot_dict, y_dict)"
   ]
  },
  {
   "cell_type": "code",
   "execution_count": 28,
   "metadata": {},
   "outputs": [
    {
     "data": {
      "image/png": "[encoded data removed]",
      "text/plain": [
       "<Figure size 432x288 with 1 Axes>"
      ]
     },
     "metadata": {
      "needs_background": "light"
     },
     "output_type": "display_data"
    }
   ],
   "source": [
    "plt.bar(range(len(plot_dict)), list(plot_dict.values()), align='center')\n",
    "plt.xticks(range(len(plot_dict)), list(plot_dict.keys()))\n",
    "plt.show()"
   ]
  },
  {
   "cell_type": "markdown",
   "metadata": {},
   "source": [
    "We see that the distribution is skewed."
   ]
  },
  {
   "cell_type": "markdown",
   "metadata": {},
   "source": [
    "## Building the Embedding Matrix"
   ]
  },
  {
   "cell_type": "code",
   "execution_count": 29,
   "metadata": {},
   "outputs": [],
   "source": [
    "EMBEDDINGS_DIM = len(glove_dict[list(glove_dict.keys())[0]])\n",
    "\n",
    "embedding_matrix = np.random.randn(len(vocabulary_words) + 2, EMBEDDINGS_DIM)"
   ]
  },
  {
   "cell_type": "code",
   "execution_count": 30,
   "metadata": {},
   "outputs": [],
   "source": [
    "for word in vocabulary_words:\n",
    "    if word in glove_dict:\n",
    "        embedding_matrix[tokenized_words[word]] = glove_dict[word]"
   ]
  },
  {
   "cell_type": "markdown",
   "metadata": {},
   "source": [
    "## Building a Simple Recurrent Neural Network"
   ]
  },
  {
   "cell_type": "code",
   "execution_count": 35,
   "metadata": {},
   "outputs": [],
   "source": [
    "from keras.models import Sequential\n",
    "from keras.layers import Dense, Embedding, SimpleRNN\n",
    "from keras import optimizers"
   ]
  },
  {
   "cell_type": "code",
   "execution_count": 36,
   "metadata": {},
   "outputs": [
    {
     "name": "stdout",
     "output_type": "stream",
     "text": [
      "Model: \"sequential_2\"\n",
      "_________________________________________________________________\n",
      "Layer (type)                 Output Shape              Param #   \n",
      "=================================================================\n",
      "embedding_2 (Embedding)      (None, 113, 100)          40259700  \n",
      "_________________________________________________________________\n",
      "simple_rnn_2 (SimpleRNN)     (None, 113, 100)          20100     \n",
      "_________________________________________________________________\n",
      "dense_2 (Dense)              (None, 113, 10)           1010      \n",
      "=================================================================\n",
      "Total params: 40,280,810\n",
      "Trainable params: 40,280,810\n",
      "Non-trainable params: 0\n",
      "_________________________________________________________________\n"
     ]
    }
   ],
   "source": [
    "model = Sequential()\n",
    "model.add(Embedding(len(vocabulary_words) + 2, \n",
    "                    EMBEDDINGS_DIM, \n",
    "                    input_length = max_len, \n",
    "                    mask_zero = True))\n",
    "model.add(SimpleRNN(EMBEDDINGS_DIM, return_sequences = True))\n",
    "model.add(Dense(units = len(ner) + 2, activation = 'softmax'))\n",
    "\n",
    "model.layers[0].set_weights([embedding_matrix])\n",
    "model.layers[0].trainable = True\n",
    "\n",
    "model.summary()"
   ]
  },
  {
   "cell_type": "code",
   "execution_count": 37,
   "metadata": {},
   "outputs": [],
   "source": [
    "model.compile(optimizer = optimizers.RMSprop(),\n",
    "              loss = 'categorical_crossentropy',\n",
    "              metrics = ['acc'])"
   ]
  },
  {
   "cell_type": "code",
   "execution_count": 38,
   "metadata": {},
   "outputs": [
    {
     "name": "stderr",
     "output_type": "stream",
     "text": [
      "/home/jonas/anaconda3/lib/python3.7/site-packages/tensorflow_core/python/framework/indexed_slices.py:424: UserWarning: Converting sparse IndexedSlices to a dense Tensor of unknown shape. This may consume a large amount of memory.\n",
      "  \"Converting sparse IndexedSlices to a dense Tensor of unknown shape. \"\n"
     ]
    },
    {
     "name": "stdout",
     "output_type": "stream",
     "text": [
      "Train on 14987 samples, validate on 3466 samples\n",
      "Epoch 1/20\n",
      "14987/14987 [==============================] - 35s 2ms/step - loss: 0.0616 - acc: 0.8564 - val_loss: 0.0403 - val_acc: 0.9064\n",
      "Epoch 2/20\n",
      "14987/14987 [==============================] - 33s 2ms/step - loss: 0.0294 - acc: 0.9270 - val_loss: 0.0280 - val_acc: 0.9382\n",
      "Epoch 3/20\n",
      "14987/14987 [==============================] - 33s 2ms/step - loss: 0.0221 - acc: 0.9447 - val_loss: 0.0234 - val_acc: 0.9468\n",
      "Epoch 4/20\n",
      "14987/14987 [==============================] - 33s 2ms/step - loss: 0.0185 - acc: 0.9527 - val_loss: 0.0207 - val_acc: 0.9537\n",
      "Epoch 5/20\n",
      "14987/14987 [==============================] - 33s 2ms/step - loss: 0.0162 - acc: 0.9583 - val_loss: 0.0195 - val_acc: 0.9571\n",
      "Epoch 6/20\n",
      "14987/14987 [==============================] - 33s 2ms/step - loss: 0.0145 - acc: 0.9624 - val_loss: 0.0181 - val_acc: 0.9599\n",
      "Epoch 7/20\n",
      "14987/14987 [==============================] - 33s 2ms/step - loss: 0.0131 - acc: 0.9657 - val_loss: 0.0182 - val_acc: 0.9603\n",
      "Epoch 8/20\n",
      "14987/14987 [==============================] - 33s 2ms/step - loss: 0.0119 - acc: 0.9689 - val_loss: 0.0180 - val_acc: 0.9598\n",
      "Epoch 9/20\n",
      "14987/14987 [==============================] - 33s 2ms/step - loss: 0.0110 - acc: 0.9715 - val_loss: 0.0174 - val_acc: 0.9622\n",
      "Epoch 10/20\n",
      "14987/14987 [==============================] - 35s 2ms/step - loss: 0.0101 - acc: 0.9735 - val_loss: 0.0180 - val_acc: 0.9626\n",
      "Epoch 11/20\n",
      "14987/14987 [==============================] - 33s 2ms/step - loss: 0.0094 - acc: 0.9754 - val_loss: 0.0168 - val_acc: 0.9628\n",
      "Epoch 12/20\n",
      "14987/14987 [==============================] - 33s 2ms/step - loss: 0.0087 - acc: 0.9769 - val_loss: 0.0168 - val_acc: 0.9626\n",
      "Epoch 13/20\n",
      "14987/14987 [==============================] - 33s 2ms/step - loss: 0.0081 - acc: 0.9786 - val_loss: 0.0173 - val_acc: 0.9600\n",
      "Epoch 14/20\n",
      "14987/14987 [==============================] - 33s 2ms/step - loss: 0.0075 - acc: 0.9803 - val_loss: 0.0167 - val_acc: 0.9642\n",
      "Epoch 15/20\n",
      "14987/14987 [==============================] - 33s 2ms/step - loss: 0.0070 - acc: 0.9815 - val_loss: 0.0169 - val_acc: 0.9637\n",
      "Epoch 16/20\n",
      "14987/14987 [==============================] - 33s 2ms/step - loss: 0.0065 - acc: 0.9831 - val_loss: 0.0175 - val_acc: 0.9627\n",
      "Epoch 17/20\n",
      "14987/14987 [==============================] - 33s 2ms/step - loss: 0.0060 - acc: 0.9841 - val_loss: 0.0179 - val_acc: 0.9626\n",
      "Epoch 18/20\n",
      "14987/14987 [==============================] - 33s 2ms/step - loss: 0.0056 - acc: 0.9857 - val_loss: 0.0180 - val_acc: 0.9608\n",
      "Epoch 19/20\n",
      "14987/14987 [==============================] - 33s 2ms/step - loss: 0.0052 - acc: 0.9864 - val_loss: 0.0183 - val_acc: 0.9627\n",
      "Epoch 20/20\n",
      "14987/14987 [==============================] - 33s 2ms/step - loss: 0.0049 - acc: 0.9871 - val_loss: 0.0181 - val_acc: 0.9637\n"
     ]
    }
   ],
   "source": [
    "retrain_model = True\n",
    "if retrain_model:\n",
    "    history = model.fit(X, Y_train,\n",
    "                    epochs = 20,\n",
    "                    batch_size = 256,\n",
    "                    validation_data = (X_dev, Y_dev))"
   ]
  },
  {
   "cell_type": "code",
   "execution_count": 39,
   "metadata": {
    "scrolled": false
   },
   "outputs": [],
   "source": [
    "if retrain_model:\n",
    "    model.save_weights('model_1_lab4.model')\n",
    "else:\n",
    "    model.load_weights('model_1_lab4.model')"
   ]
  },
  {
   "cell_type": "code",
   "execution_count": 40,
   "metadata": {},
   "outputs": [
    {
     "data": {
      "image/png": "[encoded data removed]",
      "text/plain": [
       "<Figure size 432x288 with 1 Axes>"
      ]
     },
     "metadata": {
      "needs_background": "light"
     },
     "output_type": "display_data"
    },
    {
     "data": {
      "image/png": "[encoded data removed]",
      "text/plain": [
       "<Figure size 432x288 with 1 Axes>"
      ]
     },
     "metadata": {
      "needs_background": "light"
     },
     "output_type": "display_data"
    }
   ],
   "source": [
    "acc = history.history['acc']\n",
    "val_acc = history.history['val_acc']\n",
    "loss = history.history['loss']\n",
    "val_loss = history.history['val_loss']\n",
    "\n",
    "epochs = range(1, len(acc) + 1)\n",
    "\n",
    "plt.plot(epochs, acc, 'bo', label = 'Training acc')\n",
    "plt.plot(epochs, val_acc, 'b', label = 'Validation acc')\n",
    "plt.title('Training and Validaion accuracy')\n",
    "plt.legend()\n",
    "\n",
    "plt.figure()\n",
    "\n",
    "plt.plot(epochs, loss, 'bo', label = 'Training loss')\n",
    "plt.plot(epochs, val_loss, 'b', label = 'Validation loss')\n",
    "plt.title('Training and Validaion loss')\n",
    "plt.legend()\n",
    "\n",
    "plt.show()"
   ]
  },
  {
   "cell_type": "code",
   "execution_count": 74,
   "metadata": {},
   "outputs": [
    {
     "name": "stdout",
     "output_type": "stream",
     "text": [
      "3684/3684 [==============================] - 2s 418us/step\n"
     ]
    }
   ],
   "source": [
    "test_loss, test_acc = model.evaluate(X_test, Y_test)"
   ]
  },
  {
   "cell_type": "code",
   "execution_count": 75,
   "metadata": {},
   "outputs": [
    {
     "name": "stdout",
     "output_type": "stream",
     "text": [
      "Test loss : 0.021426455229500575\n",
      "Test acc  : 0.9482799172401428\n"
     ]
    }
   ],
   "source": [
    "print(\"Test loss :\", test_loss)\n",
    "print(\"Test acc  :\", test_acc)"
   ]
  },
  {
   "cell_type": "code",
   "execution_count": 88,
   "metadata": {},
   "outputs": [],
   "source": [
    "Y_pred = model.predict(X_test)\n",
    "Y_preds = np.argmax(Y_pred, axis = 2)"
   ]
  },
  {
   "cell_type": "code",
   "execution_count": 89,
   "metadata": {},
   "outputs": [
    {
     "data": {
      "text/plain": [
       "array([[0, 0, 0, ..., 0, 0, 9],\n",
       "       [0, 0, 0, ..., 9, 9, 9],\n",
       "       [0, 0, 0, ..., 0, 8, 8],\n",
       "       ...,\n",
       "       [0, 0, 0, ..., 9, 9, 9],\n",
       "       [0, 0, 0, ..., 9, 9, 9],\n",
       "       [0, 0, 0, ..., 9, 8, 9]])"
      ]
     },
     "execution_count": 89,
     "metadata": {},
     "output_type": "execute_result"
    }
   ],
   "source": [
    "np.argmax(Y_test, axis = 2)"
   ]
  },
  {
   "cell_type": "code",
   "execution_count": 99,
   "metadata": {},
   "outputs": [],
   "source": [
    "Y_test_ = [y[y != 0.] for y in np.argmax(Y_test, axis = 2)]\n",
    "Y_pred_ = [y_hat[y != 0.] for y, y_hat in zip(np.argmax(Y_test, axis = 2), Y_preds)]"
   ]
  },
  {
   "cell_type": "code",
   "execution_count": 105,
   "metadata": {},
   "outputs": [
    {
     "name": "stdout",
     "output_type": "stream",
     "text": [
      "True values \t\t Predicted values\n"
     ]
    }
   ],
   "source": [
    "print(\"True values \\t\\t Predicted values\")\n",
    "[print() for _, y, y_hat in zip(range(5), Y_test_, Y_pred_)]"
   ]
  },
  {
   "cell_type": "code",
   "execution_count": 102,
   "metadata": {},
   "outputs": [
    {
     "name": "stdout",
     "output_type": "stream",
     "text": [
      "True values      : [array([9]), array([9, 9, 5, 9, 9, 9, 9, 8, 9, 9, 9, 9]), array([8, 8]), array([5, 9, 5, 5, 5, 9]), array([5, 9, 9, 9, 9, 9, 6, 6, 9, 9, 9, 9, 9, 9, 9, 5, 9, 9, 9, 9, 9, 9,\n",
      "       9, 9, 9])]\n",
      "Predicted values : [array([9]), array([9, 9, 5, 9, 9, 9, 9, 5, 9, 9, 9, 9]), array([8, 8]), array([7, 9, 5, 5, 5, 9]), array([5, 9, 9, 9, 9, 9, 6, 6, 9, 9, 9, 9, 9, 9, 9, 5, 9, 9, 9, 9, 9, 9,\n",
      "       9, 9, 9])]\n"
     ]
    }
   ],
   "source": [
    "print(\"True values      :\", [x for _, x in zip(range(5), Y_test_)])\n",
    "print(\"Predicted values :\", [x for _, x in zip(range(5), Y_pred_)])"
   ]
  },
  {
   "cell_type": "code",
   "execution_count": null,
   "metadata": {},
   "outputs": [],
   "source": []
  }
 ],
 "metadata": {
  "kernelspec": {
   "display_name": "Python 3",
   "language": "python",
   "name": "python3"
  },
  "language_info": {
   "codemirror_mode": {
    "name": "ipython",
    "version": 3
   },
   "file_extension": ".py",
   "mimetype": "text/x-python",
   "name": "python",
   "nbconvert_exporter": "python",
   "pygments_lexer": "ipython3",
   "version": "3.7.5"
  }
 },
 "nbformat": 4,
 "nbformat_minor": 2
}
