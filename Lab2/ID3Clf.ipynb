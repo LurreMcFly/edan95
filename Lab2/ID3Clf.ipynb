{
 "cells": [
  {
   "cell_type": "markdown",
   "metadata": {},
   "source": [
    "# Setup ToyData"
   ]
  },
  {
   "cell_type": "code",
   "execution_count": 1,
   "metadata": {},
   "outputs": [],
   "source": [
    "class ToyData:\n",
    "\n",
    "    def __init__(self):\n",
    "\n",
    "        self.attributes = {'color':['y', 'g', 'b'], 'size':['s','l'], 'shape':['r', 'i']}\n",
    "        self.classes = ('+', '-')\n",
    "\n",
    "        self.data = [('y', 's', 'r'),\n",
    "                 ('y', 's', 'r'),\n",
    "                 ('g', 's', 'i'),\n",
    "                 ('g', 'l', 'i'),\n",
    "                 ('y', 'l', 'r'),\n",
    "                 ('y', 's', 'r'),\n",
    "                 ('y', 's', 'r'),\n",
    "                 ('y', 's', 'r'),\n",
    "                 ('g', 's', 'r'),\n",
    "                 ('y', 'l', 'r'),\n",
    "                 ('y', 'l', 'r'),\n",
    "                 ('y', 'l', 'r'),\n",
    "                 ('y', 'l', 'r'),\n",
    "                 ('y', 'l', 'r'),\n",
    "                 ('y', 's', 'i'),\n",
    "                 ('y', 'l', 'i')]\n",
    "        self.target = ('+', '-', '+', '-', '+', '+', '+', '+', '-', '-', '+', '-', '-', '-', '+', '+')\n",
    "\n",
    "        self.testData = [('y', 's', 'r'),\n",
    "                 ('y', 's', 'r'),\n",
    "                 ('g', 's', 'i'),\n",
    "                 ('g', 'l', 'i'),\n",
    "                 ('y', 'l', 'r')]\n",
    "\n",
    "        self.testTarget = ('+', '-', '+', '-', '+')\n",
    "\n",
    "    def get_data(self):\n",
    "        return self.attributes, self.classes, self.data, self.target, self.testData, self.testTarget\n",
    "\n"
   ]
  },
  {
   "cell_type": "markdown",
   "metadata": {},
   "source": [
    "# Implement decision tree classifier based on the ID3 algorithm"
   ]
  },
  {
   "cell_type": "code",
   "execution_count": 2,
   "metadata": {},
   "outputs": [],
   "source": [
    "from collections import Counter\n",
    "from graphviz import Digraph\n"
   ]
  },
  {
   "cell_type": "code",
   "execution_count": 56,
   "metadata": {},
   "outputs": [],
   "source": [
    "class ID3DecisionTreeClassifier :\n",
    "    def __init__(self, minSamplesLeaf = 1, minSamplesSplit = 2) :\n",
    "        \n",
    "        self.attr_index = {}\n",
    "        self.__nodeCounter = 0\n",
    "\n",
    "        # the graph to visualise the tree\n",
    "        self.__dot = Digraph(comment='The Decision Tree')\n",
    "\n",
    "        # suggested attributes of the classifier to handle training parameters\n",
    "        self.__minSamplesLeaf = minSamplesLeaf\n",
    "        self.__minSamplesSplit = minSamplesSplit\n",
    "\n",
    "\n",
    "    # Create a new node in the tree with the suggested attributes for the visualisation.\n",
    "    # It can later be added to the graph with the respective function\n",
    "    def new_ID3_node(self):\n",
    "        node = {'id': self.__nodeCounter, 'label': None, 'attribute': None, 'entropy': None, 'samples': None,\n",
    "                         'classCounts': None, 'nodes': None}\n",
    "\n",
    "        self.__nodeCounter += 1\n",
    "        return node\n",
    "\n",
    "    # adds the node into the graph for visualisation (creates a dot-node)\n",
    "    def add_node_to_graph(self, node, parentid=-1):\n",
    "        nodeString = ''\n",
    "        for k in node:\n",
    "            if ((node[k] != None) and (k != 'nodes')):\n",
    "                nodeString += \"\\n\" + str(k) + \": \" + str(node[k])\n",
    "\n",
    "        self.__dot.node(str(node['id']), label=nodeString)\n",
    "        if (parentid != -1):\n",
    "            self.__dot.edge(str(parentid), str(node['id']))\n",
    "\n",
    "    # make the visualisation available\n",
    "    def make_dot_data(self) :\n",
    "        return self.__dot\n",
    "\n",
    "    # For you to fill in; Suggested function to find the best attribute to split with, given the set of\n",
    "    # remaining attributes, the currently evaluated data and target.\n",
    "    def find_split_attr(self, data,target,attributes,classes):\n",
    "        max_info_gain = None\n",
    "        for attr in attributes:\n",
    "            remaining_attr = self.removekey(attributes,attr)\n",
    "            i_gain, ent = self.info_gain(attr, data,target,attributes,classes)\n",
    "            if max_info_gain is None or i_gain > max_info_gain:\n",
    "                max_info_gain = i_gain\n",
    "                max_info_gain_attr = attr\n",
    "                \n",
    "        return max_info_gain_attr, ent\n",
    "    \n",
    "    # removes key\n",
    "    def removekey(self, d, key):\n",
    "        r = dict(d)\n",
    "        del r[key]\n",
    "        return r\n",
    "    \n",
    "    def entropy_split(self,data,target,col,val):\n",
    "        cnt = Counter()\n",
    "        \n",
    "        for i in range(len(data)):\n",
    "            if data[i][col] == val:\n",
    "                cnt[target[i]] += 1\n",
    "            \n",
    "        n_v = len(list(cnt.elements()))\n",
    "        ent_v = 0\n",
    "        if n_v > 0:\n",
    "            for cl in classes:\n",
    "                p_x = cnt[cl]/n_v\n",
    "                if p_x != 0:\n",
    "                    ent_v += -p_x*math.log(p_x,2)\n",
    "        return ent_v, n_v\n",
    "    \n",
    "    def info_gain(self,split, data,target,attributes,classes):\n",
    "        # Calculate the entropy first\n",
    "        entropy = 0\n",
    "        cnt = Counter(target)\n",
    "        n = len(target)\n",
    "        \n",
    "        for cl in classes:\n",
    "            p_x = cnt[cl]/n\n",
    "            entropy += - p_x * math.log(p_x,2)\n",
    "        \n",
    "        col = self.attr_index[split]\n",
    "        info_gain = entropy\n",
    "        for val in attributes[split]:\n",
    "            ent_v, n_v = self.entropy_split(data,target, col, val)\n",
    "            info_gain += - n_v/n*ent_v\n",
    "            \n",
    "        return info_gain, entropy\n",
    "            \n",
    "                \n",
    "    # Use this function split the data acording to the split attribute\n",
    "    # Return values are dicts with value of split attribute as keys and the data/targets as items.\n",
    "    def find_data_split(self,data,target,attributes,classes,split):\n",
    "        data_split = {}\n",
    "        target_split = {}\n",
    "        col = self.attr_index[split]\n",
    "        for vals in attributes[split]:\n",
    "            data_split[vals] = []\n",
    "            target_split[vals] = []\n",
    "            for i in range(len(target)):\n",
    "                if data[i][col] == vals:\n",
    "                    data_split[vals].append(data[i])\n",
    "                    target_split[vals].append(target[i])\n",
    "                   \n",
    "        return data_split, target_split\n",
    "        \n",
    "\n",
    "    # the entry point for the recursive ID3-algorithm, you need to fill in the calls to your recursive implementation\n",
    "    def fit(self, data, target, attributes, classes, parent_id = -1):\n",
    "        if self.__nodeCounter == 0:\n",
    "            for attr in attributes:\n",
    "                self.attr_index[attr] = list(attributes.keys()).index(attr)\n",
    "                \n",
    "        node = self.new_ID3_node()\n",
    "#         self.add_node_to_graph(node)\n",
    "        cnt = Counter(target)\n",
    "        node['samples'] = len(target)\n",
    "        node['classCounts'] = cnt\n",
    "        if len(cnt) == 1:\n",
    "            node['label'] = target[0]\n",
    "            self.add_node_to_graph(node,parent_id)\n",
    "            return node\n",
    "        \n",
    "        elif len(attributes) == 0:\n",
    "            node['label'] = cnt.most_common(1)[0][0]\n",
    "            self.add_node_to_graph(node, parent_id)\n",
    "            return node\n",
    "        else:\n",
    "            split,ent = self.find_split_attr(data,target,attributes,classes)\n",
    "            node['nodes'] = {}\n",
    "            node['entropy'] = ent\n",
    "            node['attribute'] = split\n",
    "            fit_data, fit_target = self.find_data_split(data,target,attributes,classes,split)    \n",
    "            for vals in attributes[split]:\n",
    "                if len(fit_target[vals]) == 0:\n",
    "                    leaf_node = self.new_ID3_node()\n",
    "                    leaf_node['label'] = cnt.most_common(1)[0][0]\n",
    "                    leaf_node['samples'] = 0\n",
    "                    self.add_node_to_graph(leaf_node,int(node['id']))\n",
    "                    node['nodes'][vals] = leaf_node\n",
    "                else:\n",
    "                    remaining_attr = self.removekey(attributes, split)\n",
    "                    print(attributes)\n",
    "                    print(split)\n",
    "                    print(ent)\n",
    "                    print(remaining_attr)\n",
    "                    node['nodes'][vals] = self.fit(fit_data[vals],fit_target[vals],remaining_attr,classes, int(node['id']))\n",
    "\n",
    "        # fill in something more sensible here..  root should become the output of the recursive tree creation\n",
    "        # root = self.new_ID3_node()\n",
    "        # self.add_node_to_graph(root)\n",
    "        self.add_node_to_graph(node, parent_id)\n",
    "        return node\n",
    "    \n",
    "\n",
    "    def predict(self, data, tree) :\n",
    "        predicted = list()\n",
    "        \n",
    "        def traverse(one_data, node):\n",
    "            if node['label'] is not None:\n",
    "                return node['label']\n",
    "            elif node['nodes'] is not None:\n",
    "                attr = node['attribute']\n",
    "                val = one_data[self.attr_index[attr]]  \n",
    "                return traverse(one_data,node['nodes'][val])\n",
    "                \n",
    "            \n",
    "        for i in range(len(data)):\n",
    "            predicted.append(traverse(data[i],tree))\n",
    "            \n",
    "\n",
    "        # fill in something more sensible here... root should become the output of the recursive tree creation\n",
    "        return predicted"
   ]
  },
  {
   "cell_type": "markdown",
   "metadata": {},
   "source": [
    "# Run the ID3 classifier"
   ]
  },
  {
   "cell_type": "code",
   "execution_count": 57,
   "metadata": {},
   "outputs": [],
   "source": [
    "# import ToyData as td\n",
    "# import ID3\n",
    "\n",
    "import numpy as np\n",
    "import math\n",
    "from sklearn import tree, metrics, datasets\n"
   ]
  },
  {
   "cell_type": "code",
   "execution_count": null,
   "metadata": {},
   "outputs": [],
   "source": [
    "attributes, classes, data, target, data2, target2 = ToyData().get_data()\n",
    "\n",
    "id3 = ID3DecisionTreeClassifier()\n",
    "\n",
    "myTree = id3.fit(data, target, attributes, classes)\n",
    "print(myTree)\n",
    "plot = id3.make_dot_data()\n",
    "plot.render(\"testTree\")\n",
    "predicted = id3.predict(data2, myTree)\n",
    "print(predicted)"
   ]
  },
  {
   "cell_type": "code",
   "execution_count": 59,
   "metadata": {},
   "outputs": [
    {
     "name": "stdout",
     "output_type": "stream",
     "text": [
      "['+', '+', '+', '-', '-']\n",
      "('+', '-', '+', '-', '+')\n"
     ]
    }
   ],
   "source": [
    "print(predicted)\n",
    "print(target2)"
   ]
  },
  {
   "cell_type": "markdown",
   "metadata": {},
   "source": [
    "# ID3 classifier with digits dataset"
   ]
  },
  {
   "cell_type": "code",
   "execution_count": 60,
   "metadata": {},
   "outputs": [],
   "source": [
    "from sklearn import datasets,metrics\n",
    "from sklearn.tree import DecisionTreeClassifier\n",
    "import matplotlib.pyplot as plt"
   ]
  },
  {
   "cell_type": "code",
   "execution_count": 61,
   "metadata": {},
   "outputs": [],
   "source": [
    "digits = datasets.load_digits()\n",
    "# digit.data"
   ]
  },
  {
   "cell_type": "code",
   "execution_count": 62,
   "metadata": {},
   "outputs": [
    {
     "data": {
      "image/png": "[encoded data removed]",
      "text/plain": [
       "<Figure size 432x288 with 10 Axes>"
      ]
     },
     "metadata": {
      "needs_background": "light"
     },
     "output_type": "display_data"
    }
   ],
   "source": [
    "images_and_labels = list(zip(digits.images, digits.target))\n",
    "for index, (image, label) in enumerate(images_and_labels[:10]):\n",
    "    plt.subplot(2, 5, index + 1)\n",
    "    plt.axis('off')\n",
    "    plt.imshow(image, cmap=plt.cm.gray_r, interpolation='nearest')\n",
    "    plt.title('Training: %i' % label)"
   ]
  },
  {
   "cell_type": "code",
   "execution_count": 63,
   "metadata": {},
   "outputs": [],
   "source": [
    "num_examples = len(digits.data)\n",
    "num_split = int(0.7*num_examples)\n",
    "train_features = digits.data[:num_split]\n",
    "train_labels =  digits.target[:num_split]\n",
    "test_features = digits.data[num_split:]\n",
    "test_labels = digits.target[num_split:]"
   ]
  },
  {
   "cell_type": "code",
   "execution_count": 68,
   "metadata": {},
   "outputs": [
    {
     "name": "stdout",
     "output_type": "stream",
     "text": [
      "Number of training examples:  1257\n",
      "Number of test examples:  540\n",
      "Number of total examples: 1797\n"
     ]
    },
    {
     "data": {
      "text/plain": [
       "array([0, 1, 2, ..., 4, 3, 1])"
      ]
     },
     "execution_count": 68,
     "metadata": {},
     "output_type": "execute_result"
    }
   ],
   "source": [
    "print(\"Number of training examples: \",len(train_features))\n",
    "print(\"Number of test examples: \",len(test_features))\n",
    "print(\"Number of total examples:\", len(train_features)+len(test_features))\n",
    "train_labels"
   ]
  },
  {
   "cell_type": "code",
   "execution_count": null,
   "metadata": {},
   "outputs": [],
   "source": [
    "id3_2 = ID3DecisionTreeClassifier()\n",
    "\n",
    "classes = [i for i in range(10)]\n",
    "\n",
    "my2Tree = id3_2.fit(train_features, train_labels, ,classes)"
   ]
  },
  {
   "cell_type": "markdown",
   "metadata": {},
   "source": [
    "# Accuracy metrics"
   ]
  },
  {
   "cell_type": "code",
   "execution_count": 74,
   "metadata": {},
   "outputs": [],
   "source": [
    "def getMetrics(TP,FP,TN,FN):\n",
    "    precision = TP/(TP+FP)\n",
    "    recall = TP/(TP+FN)\n",
    "    accuracy = (TP+TN)/(TP+TN+FP+FN)\n",
    "    f1 = 2*precision*recall/(precision+recall)\n",
    "    return precision, recall, f1-score, support\n",
    "\n",
    "def metricsReport(target, predictions,classes):\n",
    "    for cl in classes:\n",
    "        FP = 0\n",
    "        TP = 0\n",
    "        TN = 0\n",
    "        FN = 0\n",
    "        for i in range(len(predictions)):\n",
    "            if target[i] == val[i]:\n",
    "                if val[i] == cl:\n",
    "                    TP += 1\n",
    "                else:\n",
    "                    FN += 1\n",
    "            else:\n",
    "                if val[i] == cl:\n",
    "                    FP += 1\n",
    "                else:\n",
    "                    TN += 1\n",
    "        pre, re, f1, sup = getMetrics(TP,FP,TN,FN)\n",
    "        print(cl, \"precision\",pre)\n",
    "        print(cl, \"recall\", re)\n",
    "        print(cl, \"f1-score\", f1)\n",
    "        print(cl, \"support\", sup)\n",
    "        \n",
    "            \n",
    "                "
   ]
  },
  {
   "cell_type": "code",
   "execution_count": null,
   "metadata": {},
   "outputs": [],
   "source": []
  }
 ],
 "metadata": {
  "kernelspec": {
   "display_name": "Python 3",
   "language": "python",
   "name": "python3"
  },
  "language_info": {
   "codemirror_mode": {
    "name": "ipython",
    "version": 3
   },
   "file_extension": ".py",
   "mimetype": "text/x-python",
   "name": "python",
   "nbconvert_exporter": "python",
   "pygments_lexer": "ipython3",
   "version": "3.7.4"
  }
 },
 "nbformat": 4,
 "nbformat_minor": 2
}
